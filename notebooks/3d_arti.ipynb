{
 "cells": [
  {
   "cell_type": "code",
   "execution_count": 1,
   "metadata": {},
   "outputs": [],
   "source": [
    "import ipyvolume as ipv\n",
    "import torch\n",
    "import numpy as np\n",
    "import os    \n",
    "import re\n",
    "import matplotlib.pyplot as plt"
   ]
  },
  {
   "cell_type": "code",
   "execution_count": 2,
   "metadata": {},
   "outputs": [
    {
     "name": "stdout",
     "output_type": "stream",
     "text": [
      "Volume number 0 corresponds to the file volume_0_label_29.pt\n",
      "Number of NaNs: 0\n",
      "tensor 1.0 0.0\n"
     ]
    }
   ],
   "source": [
    "\n",
    "\n",
    "def visualize_3d_tensor(tensor):\n",
    "    # Ensure the tensor is on the CPU and convert to numpy array if necessary\n",
    "    if torch.is_tensor(tensor):\n",
    "        tensor = tensor.cpu().numpy()\n",
    "    \n",
    "    # Normalize the data for better visualization\n",
    "    max_value = tensor.max()\n",
    "    if max_value > 0:\n",
    "        tensor = tensor / max_value\n",
    "    else:\n",
    "        print(\"Warning: Max value of tensor is 0. Normalization skipped.\")\n",
    "\n",
    "    # Replace NaNs and infinite values, if any\n",
    "    print(\"Number of NaNs:\", np.isnan(tensor).sum())\n",
    "    print(\"tensor\", tensor.max(), tensor.min())\n",
    "    tensor = np.nan_to_num(tensor, nan=0.0, posinf=1.0, neginf=0.0)\n",
    "\n",
    "    # Create a 3D volume visualization\n",
    "    ipv.quickvolshow(tensor, level=0.5, opacity=0.3)\n",
    "    ipv.show()\n",
    "\n",
    "# Load the tensor\n",
    "loaded_tensors = []\n",
    "def display_volume(volume_number):\n",
    "    output_dir = '../datasets/artificial_data/3d_shapes'\n",
    "    \n",
    "    # Construct the regular expression to match the desired file\n",
    "    pattern = re.compile(rf'volume_{volume_number}_label_\\d+\\.pt')\n",
    "    \n",
    "    # Search for the file in the output directory\n",
    "    for filename in os.listdir(output_dir):\n",
    "        if pattern.match(filename):\n",
    "            volume_path = os.path.join(output_dir, filename)\n",
    "            break\n",
    "    else:\n",
    "        print(f\"No file found for volume number {volume_number}\")\n",
    "        return\n",
    "\n",
    "    # print label \n",
    "    print(f\"Volume number {volume_number} corresponds to the file {filename}\")\n",
    "    # Load the tensor\n",
    "    loaded_tensor = torch.load(volume_path)\n",
    "    loaded_tensors.append(loaded_tensor)\n",
    "\n",
    "    # Visualize the tensor (assuming you have a function named visualize_3d_tensor)\n",
    "    visualize_3d_tensor(loaded_tensor)\n",
    "\n",
    "def display_slices(loaded_tensor):\n",
    "        # Visualize the middle slices\n",
    "    fig, axes = plt.subplots(1, 3, figsize=(15, 5))\n",
    "\n",
    "    # Plot sagittal slice\n",
    "    slice_index = loaded_tensor.shape[2] // 2\n",
    "    slice_tensor = loaded_tensor[:, :, slice_index]\n",
    "    axes[0].imshow(slice_tensor, cmap='gray')\n",
    "    axes[0].set_title('Sagittal Slice')\n",
    "\n",
    "    # Plot coronal slice\n",
    "    slice_index = loaded_tensor.shape[1] // 2\n",
    "    slice_tensor = loaded_tensor[:, slice_index, :]\n",
    "    axes[1].imshow(slice_tensor, cmap='gray')\n",
    "    axes[1].set_title('Coronal Slice')\n",
    "\n",
    "    # Plot axial slice\n",
    "    slice_index = loaded_tensor.shape[0] // 2\n",
    "    slice_tensor = loaded_tensor[slice_index, :, :]\n",
    "    axes[2].imshow(slice_tensor, cmap='gray')\n",
    "    axes[2].set_title('Axial Slice')\n",
    "\n",
    "    plt.show()\n",
    "\n",
    "for i in range(1):\n",
    "    display_volume(i)\n",
    "\n",
    "\n",
    "\n",
    "# display_volume(1)\n",
    "\n",
    "\n",
    "for i in range(len(loaded_tensors)):\n",
    "    display_slices(loaded_tensors[i])\n"
   ]
  },
  {
   "cell_type": "code",
   "execution_count": null,
   "metadata": {},
   "outputs": [
    {
     "ename": "NameError",
     "evalue": "name 'torch' is not defined",
     "output_type": "error",
     "traceback": [
      "\u001b[0;31m---------------------------------------------------------------------------\u001b[0m",
      "\u001b[0;31mNameError\u001b[0m                                 Traceback (most recent call last)",
      "Cell \u001b[0;32mIn[1], line 1\u001b[0m\n\u001b[0;32m----> 1\u001b[0m tensor \u001b[38;5;241m=\u001b[39m \u001b[43mtorch\u001b[49m\u001b[38;5;241m.\u001b[39mload(\u001b[38;5;124m'\u001b[39m\u001b[38;5;124m../datasets/artificial_data/3d_shapes/volume_1_label_21.pt\u001b[39m\u001b[38;5;124m'\u001b[39m)\n\u001b[1;32m      2\u001b[0m \u001b[38;5;28mprint\u001b[39m(\u001b[38;5;124m\"\u001b[39m\u001b[38;5;124mtensor\u001b[39m\u001b[38;5;124m\"\u001b[39m, tensor\u001b[38;5;241m.\u001b[39mmax(), tensor\u001b[38;5;241m.\u001b[39mmin())\n\u001b[1;32m      3\u001b[0m tensor \u001b[38;5;241m=\u001b[39m np\u001b[38;5;241m.\u001b[39mnan_to_num(tensor, nan\u001b[38;5;241m=\u001b[39m\u001b[38;5;241m0.0\u001b[39m, posinf\u001b[38;5;241m=\u001b[39m\u001b[38;5;241m1.0\u001b[39m, neginf\u001b[38;5;241m=\u001b[39m\u001b[38;5;241m0.0\u001b[39m)\n",
      "\u001b[0;31mNameError\u001b[0m: name 'torch' is not defined"
     ]
    }
   ],
   "source": [
    "\n",
    "tensor = torch.load('../datasets/artificial_data/3d_shapes/volume_1_label_21.pt')\n",
    "print(\"tensor\", tensor.max(), tensor.min())\n",
    "tensor = np.nan_to_num(tensor, nan=0.0, posinf=1.0, neginf=0.0)\n",
    "ipv.quickvolshow(tensor, level=0.5, opacity=0.3)\n",
    "ipv.show()"
   ]
  },
  {
   "cell_type": "code",
   "execution_count": null,
   "metadata": {},
   "outputs": [],
   "source": []
  }
 ],
 "metadata": {
  "kernelspec": {
   "display_name": "MLA",
   "language": "python",
   "name": "python3"
  },
  "language_info": {
   "codemirror_mode": {
    "name": "ipython",
    "version": 3
   },
   "file_extension": ".py",
   "mimetype": "text/x-python",
   "name": "python",
   "nbconvert_exporter": "python",
   "pygments_lexer": "ipython3",
   "version": "3.11.8"
  }
 },
 "nbformat": 4,
 "nbformat_minor": 2
}
