{
 "cells": [
  {
   "cell_type": "code",
   "execution_count": 51,
   "metadata": {},
   "outputs": [],
   "source": [
    "import sys\n",
    "import importlib\n",
    "import os\n",
    "# make the module available from the src directory\n",
    "module_path = os.path.abspath(os.path.join('..'))\n",
    "if module_path not in sys.path:\n",
    "    sys.path.append(module_path)"
   ]
  },
  {
   "cell_type": "code",
   "execution_count": 52,
   "metadata": {},
   "outputs": [
    {
     "data": {
      "text/plain": [
       "<module 'src.dataLoaders.PatientDataLoader' from '/Users/askelundsgaard/Documents/datalogi/6-semester/Bachelor/XAI-in-Medical-Image-Analysis/src/dataLoaders/PatientDataLoader.py'>"
      ]
     },
     "execution_count": 52,
     "metadata": {},
     "output_type": "execute_result"
    }
   ],
   "source": [
    "from src.dataLoaders.PatientDataLoader import PatientDataProcessor\n",
    "importlib.reload(sys.modules['src.dataLoaders.PatientDataLoader'])"
   ]
  },
  {
   "cell_type": "code",
   "execution_count": 53,
   "metadata": {},
   "outputs": [],
   "source": [
    "meta_folder = 'OAIData21/'\n",
    "data_path = '../datasets/meta_data/' + meta_folder\n",
    "visit = 0\n",
    "\n",
    "processor = PatientDataProcessor(base_path=data_path)\n",
    "# processor.create_meta_data_for_visit(visit_no=visit)\n",
    "# processor.load_all_visits()\n",
    "# processor.get_data()"
   ]
  },
  {
   "cell_type": "code",
   "execution_count": 54,
   "metadata": {},
   "outputs": [
    {
     "data": {
      "text/plain": [
       "<module 'src.dataLoaders.NiftiDataLoader2' from '/Users/askelundsgaard/Documents/datalogi/6-semester/Bachelor/XAI-in-Medical-Image-Analysis/src/dataLoaders/NiftiDataLoader2.py'>"
      ]
     },
     "execution_count": 54,
     "metadata": {},
     "output_type": "execute_result"
    }
   ],
   "source": [
    "from src.dataLoaders.NiftiDataLoader2 import NiftiDataLoader\n",
    "importlib.reload(sys.modules['src.dataLoaders.NiftiDataLoader2'])"
   ]
  },
  {
   "cell_type": "code",
   "execution_count": 55,
   "metadata": {},
   "outputs": [],
   "source": [
    "from src.transformers.SliceTransformer import SliceAggregateTransform\n",
    "importlib.reload(sys.modules['src.transformers.SliceTransformer'])\n",
    "custom_transforms = [SliceAggregateTransform(keys=[\"image\"], slices=3)]"
   ]
  },
  {
   "cell_type": "code",
   "execution_count": 56,
   "metadata": {},
   "outputs": [
    {
     "name": "stdout",
     "output_type": "stream",
     "text": [
      "Missing columns for visit V00: {'V00BMI'}\n",
      "Missing columns for visit V01: {'P01BMI'}\n",
      "Missing columns for visit V02: {'V02PASE', 'V02BMI', 'P01BMI'}\n",
      "Missing columns for visit V03: {'P01BMI'}\n",
      "Missing columns for visit V04: {'V04PASE', 'V04BMI', 'P01BMI'}\n",
      "Missing columns for visit V05: {'P01BMI'}\n",
      "Missing columns for visit V06: {'P01BMI'}\n",
      "Missing columns for visit V07: {'V07BMI', 'V07PASE', 'P01BMI'}\n",
      "Missing columns for visit V08: {'P01BMI'}\n",
      "Missing columns for visit V09: {'V09BMI', 'V09PASE', 'P01BMI'}\n",
      "Missing columns for visit V10: {'P01BMI'}\n",
      "Missing columns for visit V11: {'V11BMI', 'P01BMI', 'V11PASE'}\n",
      "Visits: dict_keys([0, 1, 2, 3, 4, 5, 6, 7, 8, 9, 10, 11])\n",
      "Total images detected: 83\n",
      "Total images: [{'image': '../datasets/nifti/niftiShort/9000798-Left-V00.nii.gz', 'label': 8.0}, {'image': '../datasets/nifti/niftiShort/9001695-Left-V00.nii.gz', 'label': 0.0}, {'image': '../datasets/nifti/niftiShort/9001695-Right-V00.nii.gz', 'label': 0.0}, {'image': '../datasets/nifti/niftiShort/9001897-Left-V00.nii.gz', 'label': 0.0}, {'image': '../datasets/nifti/niftiShort/9001897-Right-V00.nii.gz', 'label': 0.0}]\n",
      "Example train data: {'image': '../datasets/nifti/niftiShort/9003815-Left-V01.nii.gz', 'label': 7.0}\n",
      "Example validation data: {'image': '../datasets/nifti/niftiShort/9001695-Left-V00.nii.gz', 'label': 0.0}\n",
      "Example test data: {'image': '../datasets/nifti/niftiShort/9003175-Left-V01.nii.gz', 'label': 0.0}\n"
     ]
    },
    {
     "name": "stderr",
     "output_type": "stream",
     "text": [
      "Loading dataset: 100%|██████████| 57/57 [00:35<00:00,  1.62it/s]\n",
      "Loading dataset: 100%|██████████| 1/1 [00:00<00:00,  1.62it/s]\n",
      "Loading dataset: 100%|██████████| 3/3 [00:01<00:00,  1.65it/s]\n"
     ]
    }
   ],
   "source": [
    "dataset = 'niftiShort'\n",
    "data_path = '../datasets/nifti/'\n",
    "data_dir = f'{data_path}{dataset}'\n",
    "\n",
    "# data_dir = 'C:/Users/askel/Downloads/NIFTY/NIFTY/'\n",
    "\n",
    "\n",
    "data_loader = NiftiDataLoader(data_dir=data_dir, \n",
    "                              meta_data_loader=processor, \n",
    "                              batch_size=32,\n",
    "                              spatial_size=(256, 256, 256),\n",
    "                              cache_rate=0.2, \n",
    "                              replace_rate=0.2, \n",
    "                              custom_transforms=custom_transforms,\n",
    "                              )\n",
    "# data_loader.load_data(visit_no=visit, subset_size=2058, cache=\"standard\")\n",
    "data_loader.load_data(subset_size=84, cache=\"persistent\")\n"
   ]
  },
  {
   "cell_type": "code",
   "execution_count": 57,
   "metadata": {},
   "outputs": [
    {
     "data": {
      "text/plain": [
       "<module 'src.models.medical_models.monai_resnet' from '/Users/askelundsgaard/Documents/datalogi/6-semester/Bachelor/XAI-in-Medical-Image-Analysis/src/models/medical_models/monai_resnet.py'>"
      ]
     },
     "execution_count": 57,
     "metadata": {},
     "output_type": "execute_result"
    }
   ],
   "source": [
    "from src.models.medical_models.medical_resnet import MedicalResNetModel\n",
    "from src.models.medical_models.base_medical import MedicalResNetModelBase\n",
    "importlib.reload(sys.modules['src.models.medical_models.base_medical'])\n",
    "importlib.reload(sys.modules['src.models.medical_models.medical_resnet'])\n",
    "\n",
    "\n",
    "from src.models.medical_models.monai_resnet import MonaiMedicalResNet\n",
    "importlib.reload(sys.modules['src.models.medical_models.monai_resnet'])"
   ]
  },
  {
   "cell_type": "code",
   "execution_count": 58,
   "metadata": {},
   "outputs": [
    {
     "name": "stdout",
     "output_type": "stream",
     "text": [
      "Image spatial dimensions:  2\n",
      "Number of input channels:  3\n",
      "gpu:  mps:0\n",
      "Is cuda available:  False mps\n",
      "Epoch 1/5, Train Loss: 25.854949474334717, Val Loss: 74215144.0\n",
      "Model saved at /Users/askelundsgaard/Documents/datalogi/6-semester/Bachelor/XAI-in-Medical-Image-Analysis/src/models/medical_models/saved_models/MedicalResNetModel_18_57_epoch_1.pth\n",
      "Epoch 2/5, Train Loss: 27.612863540649414, Val Loss: 2453528379392.0\n",
      "Epoch 3/5, Train Loss: 12.790979862213135, Val Loss: 8515847680.0\n",
      "Epoch 4/5, Train Loss: 6.793837070465088, Val Loss: 5206931456.0\n",
      "Epoch 5/5, Train Loss: 10.23689079284668, Val Loss: 233763680.0\n",
      "R^2 score of the network on the test images: -1560897536.0\n",
      "Test Loss: 346866112.0\n"
     ]
    }
   ],
   "source": [
    "# Create a model instance\n",
    "model = MedicalResNetModel(\n",
    "    num_epochs=2,\n",
    "    learning_rate=0.01,\n",
    "    weight_decay=1e-5,\n",
    "    data_loader=data_loader,\n",
    "    dropout_rate=0.1,\n",
    "    depth=18\n",
    ")\n",
    "\n",
    "model.train()\n",
    "model.evaluate()"
   ]
  }
 ],
 "metadata": {
  "kernelspec": {
   "display_name": "MLA",
   "language": "python",
   "name": "python3"
  },
  "language_info": {
   "codemirror_mode": {
    "name": "ipython",
    "version": 3
   },
   "file_extension": ".py",
   "mimetype": "text/x-python",
   "name": "python",
   "nbconvert_exporter": "python",
   "pygments_lexer": "ipython3",
   "version": "3.11.4"
  }
 },
 "nbformat": 4,
 "nbformat_minor": 2
}
