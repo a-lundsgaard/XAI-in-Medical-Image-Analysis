{
 "cells": [
  {
   "cell_type": "code",
   "execution_count": 4,
   "metadata": {},
   "outputs": [],
   "source": [
    "import sys\n",
    "import importlib\n",
    "import os\n",
    "# make the module available from the src directory\n",
    "module_path = os.path.abspath(os.path.join('..'))\n",
    "if module_path not in sys.path:\n",
    "    sys.path.append(module_path)"
   ]
  },
  {
   "cell_type": "code",
   "execution_count": 5,
   "metadata": {},
   "outputs": [
    {
     "data": {
      "text/plain": [
       "<module 'src.dataLoaders.PatientDataLoader' from '/Users/askelundsgaard/Documents/datalogi/6-semester/Bachelor/XAI-in-Medical-Image-Analysis/src/dataLoaders/PatientDataLoader.py'>"
      ]
     },
     "execution_count": 5,
     "metadata": {},
     "output_type": "execute_result"
    }
   ],
   "source": [
    "from src.dataLoaders.PatientDataLoader import PatientDataProcessor\n",
    "importlib.reload(sys.modules['src.dataLoaders.PatientDataLoader'])"
   ]
  },
  {
   "cell_type": "code",
   "execution_count": 6,
   "metadata": {},
   "outputs": [
    {
     "name": "stdout",
     "output_type": "stream",
     "text": [
      "Missing columns for visit V01: {'P01BMI'}\n"
     ]
    },
    {
     "data": {
      "text/html": [
       "<div>\n",
       "<style scoped>\n",
       "    .dataframe tbody tr th:only-of-type {\n",
       "        vertical-align: middle;\n",
       "    }\n",
       "\n",
       "    .dataframe tbody tr th {\n",
       "        vertical-align: top;\n",
       "    }\n",
       "\n",
       "    .dataframe thead th {\n",
       "        text-align: right;\n",
       "    }\n",
       "</style>\n",
       "<table border=\"1\" class=\"dataframe\">\n",
       "  <thead>\n",
       "    <tr style=\"text-align: right;\">\n",
       "      <th></th>\n",
       "      <th>V01BMI</th>\n",
       "      <th>V01AGE</th>\n",
       "      <th>V01WOMTSL</th>\n",
       "      <th>V01WOMTSR</th>\n",
       "      <th>V01KQOL2</th>\n",
       "      <th>V01PASE</th>\n",
       "      <th>V01DILKN10</th>\n",
       "      <th>V01DILKN11</th>\n",
       "      <th>V01DILKN2</th>\n",
       "      <th>V01DIRKN10</th>\n",
       "      <th>V01DIRKN11</th>\n",
       "      <th>V01DIRKN2</th>\n",
       "      <th>Sex</th>\n",
       "    </tr>\n",
       "    <tr>\n",
       "      <th>ID</th>\n",
       "      <th></th>\n",
       "      <th></th>\n",
       "      <th></th>\n",
       "      <th></th>\n",
       "      <th></th>\n",
       "      <th></th>\n",
       "      <th></th>\n",
       "      <th></th>\n",
       "      <th></th>\n",
       "      <th></th>\n",
       "      <th></th>\n",
       "      <th></th>\n",
       "      <th></th>\n",
       "    </tr>\n",
       "  </thead>\n",
       "  <tbody>\n",
       "    <tr>\n",
       "      <th>9000099</th>\n",
       "      <td>24.1</td>\n",
       "      <td>60.0</td>\n",
       "      <td>23.0</td>\n",
       "      <td>10.0</td>\n",
       "      <td>3.0</td>\n",
       "      <td>119.0</td>\n",
       "      <td>2.0</td>\n",
       "      <td>2.0</td>\n",
       "      <td>2.0</td>\n",
       "      <td>1.0</td>\n",
       "      <td>0.0</td>\n",
       "      <td>1.0</td>\n",
       "      <td>0</td>\n",
       "    </tr>\n",
       "    <tr>\n",
       "      <th>9000296</th>\n",
       "      <td>29.4</td>\n",
       "      <td>70.0</td>\n",
       "      <td>0.0</td>\n",
       "      <td>0.0</td>\n",
       "      <td>0.0</td>\n",
       "      <td>190.0</td>\n",
       "      <td>0.0</td>\n",
       "      <td>0.0</td>\n",
       "      <td>0.0</td>\n",
       "      <td>0.0</td>\n",
       "      <td>0.0</td>\n",
       "      <td>0.0</td>\n",
       "      <td>0</td>\n",
       "    </tr>\n",
       "    <tr>\n",
       "      <th>9000622</th>\n",
       "      <td>22.2</td>\n",
       "      <td>72.0</td>\n",
       "      <td>0.0</td>\n",
       "      <td>2.0</td>\n",
       "      <td>0.0</td>\n",
       "      <td>118.0</td>\n",
       "      <td>0.0</td>\n",
       "      <td>0.0</td>\n",
       "      <td>0.0</td>\n",
       "      <td>0.0</td>\n",
       "      <td>0.0</td>\n",
       "      <td>0.0</td>\n",
       "      <td>1</td>\n",
       "    </tr>\n",
       "    <tr>\n",
       "      <th>9000798</th>\n",
       "      <td>32.8</td>\n",
       "      <td>58.0</td>\n",
       "      <td>33.0</td>\n",
       "      <td>2.0</td>\n",
       "      <td>3.0</td>\n",
       "      <td>285.0</td>\n",
       "      <td>2.0</td>\n",
       "      <td>1.0</td>\n",
       "      <td>2.0</td>\n",
       "      <td>0.0</td>\n",
       "      <td>0.0</td>\n",
       "      <td>0.0</td>\n",
       "      <td>0</td>\n",
       "    </tr>\n",
       "    <tr>\n",
       "      <th>9001104</th>\n",
       "      <td>28.7</td>\n",
       "      <td>73.0</td>\n",
       "      <td>0.0</td>\n",
       "      <td>23.0</td>\n",
       "      <td>2.0</td>\n",
       "      <td>157.0</td>\n",
       "      <td>0.0</td>\n",
       "      <td>0.0</td>\n",
       "      <td>0.0</td>\n",
       "      <td>1.0</td>\n",
       "      <td>1.0</td>\n",
       "      <td>1.0</td>\n",
       "      <td>1</td>\n",
       "    </tr>\n",
       "    <tr>\n",
       "      <th>...</th>\n",
       "      <td>...</td>\n",
       "      <td>...</td>\n",
       "      <td>...</td>\n",
       "      <td>...</td>\n",
       "      <td>...</td>\n",
       "      <td>...</td>\n",
       "      <td>...</td>\n",
       "      <td>...</td>\n",
       "      <td>...</td>\n",
       "      <td>...</td>\n",
       "      <td>...</td>\n",
       "      <td>...</td>\n",
       "      <td>...</td>\n",
       "    </tr>\n",
       "    <tr>\n",
       "      <th>9999365</th>\n",
       "      <td>31.8</td>\n",
       "      <td>57.0</td>\n",
       "      <td>14.6</td>\n",
       "      <td>15.4</td>\n",
       "      <td>2.0</td>\n",
       "      <td>242.0</td>\n",
       "      <td>0.0</td>\n",
       "      <td>0.0</td>\n",
       "      <td>3.0</td>\n",
       "      <td>0.0</td>\n",
       "      <td>0.0</td>\n",
       "      <td>2.0</td>\n",
       "      <td>0</td>\n",
       "    </tr>\n",
       "    <tr>\n",
       "      <th>9999510</th>\n",
       "      <td>29.6</td>\n",
       "      <td>51.0</td>\n",
       "      <td>2.0</td>\n",
       "      <td>0.0</td>\n",
       "      <td>2.0</td>\n",
       "      <td>157.0</td>\n",
       "      <td>0.0</td>\n",
       "      <td>0.0</td>\n",
       "      <td>0.0</td>\n",
       "      <td>0.0</td>\n",
       "      <td>0.0</td>\n",
       "      <td>0.0</td>\n",
       "      <td>0</td>\n",
       "    </tr>\n",
       "    <tr>\n",
       "      <th>9999862</th>\n",
       "      <td>23.6</td>\n",
       "      <td>62.0</td>\n",
       "      <td>0.0</td>\n",
       "      <td>0.0</td>\n",
       "      <td>0.0</td>\n",
       "      <td>215.0</td>\n",
       "      <td>0.0</td>\n",
       "      <td>0.0</td>\n",
       "      <td>0.0</td>\n",
       "      <td>0.0</td>\n",
       "      <td>0.0</td>\n",
       "      <td>0.0</td>\n",
       "      <td>1</td>\n",
       "    </tr>\n",
       "    <tr>\n",
       "      <th>9999865</th>\n",
       "      <td>25.0</td>\n",
       "      <td>62.0</td>\n",
       "      <td>0.0</td>\n",
       "      <td>0.0</td>\n",
       "      <td>0.0</td>\n",
       "      <td>82.0</td>\n",
       "      <td>0.0</td>\n",
       "      <td>0.0</td>\n",
       "      <td>0.0</td>\n",
       "      <td>0.0</td>\n",
       "      <td>0.0</td>\n",
       "      <td>0.0</td>\n",
       "      <td>1</td>\n",
       "    </tr>\n",
       "    <tr>\n",
       "      <th>9999878</th>\n",
       "      <td>27.0</td>\n",
       "      <td>73.0</td>\n",
       "      <td>4.0</td>\n",
       "      <td>1.0</td>\n",
       "      <td>0.0</td>\n",
       "      <td>124.0</td>\n",
       "      <td>1.0</td>\n",
       "      <td>0.0</td>\n",
       "      <td>1.0</td>\n",
       "      <td>0.0</td>\n",
       "      <td>0.0</td>\n",
       "      <td>0.0</td>\n",
       "      <td>1</td>\n",
       "    </tr>\n",
       "  </tbody>\n",
       "</table>\n",
       "<p>4796 rows × 13 columns</p>\n",
       "</div>"
      ],
      "text/plain": [
       "         V01BMI  V01AGE  V01WOMTSL  V01WOMTSR  V01KQOL2  V01PASE  V01DILKN10  \\\n",
       "ID                                                                             \n",
       "9000099    24.1    60.0       23.0       10.0       3.0    119.0         2.0   \n",
       "9000296    29.4    70.0        0.0        0.0       0.0    190.0         0.0   \n",
       "9000622    22.2    72.0        0.0        2.0       0.0    118.0         0.0   \n",
       "9000798    32.8    58.0       33.0        2.0       3.0    285.0         2.0   \n",
       "9001104    28.7    73.0        0.0       23.0       2.0    157.0         0.0   \n",
       "...         ...     ...        ...        ...       ...      ...         ...   \n",
       "9999365    31.8    57.0       14.6       15.4       2.0    242.0         0.0   \n",
       "9999510    29.6    51.0        2.0        0.0       2.0    157.0         0.0   \n",
       "9999862    23.6    62.0        0.0        0.0       0.0    215.0         0.0   \n",
       "9999865    25.0    62.0        0.0        0.0       0.0     82.0         0.0   \n",
       "9999878    27.0    73.0        4.0        1.0       0.0    124.0         1.0   \n",
       "\n",
       "         V01DILKN11  V01DILKN2  V01DIRKN10  V01DIRKN11  V01DIRKN2  Sex  \n",
       "ID                                                                      \n",
       "9000099         2.0        2.0         1.0         0.0        1.0    0  \n",
       "9000296         0.0        0.0         0.0         0.0        0.0    0  \n",
       "9000622         0.0        0.0         0.0         0.0        0.0    1  \n",
       "9000798         1.0        2.0         0.0         0.0        0.0    0  \n",
       "9001104         0.0        0.0         1.0         1.0        1.0    1  \n",
       "...             ...        ...         ...         ...        ...  ...  \n",
       "9999365         0.0        3.0         0.0         0.0        2.0    0  \n",
       "9999510         0.0        0.0         0.0         0.0        0.0    0  \n",
       "9999862         0.0        0.0         0.0         0.0        0.0    1  \n",
       "9999865         0.0        0.0         0.0         0.0        0.0    1  \n",
       "9999878         0.0        1.0         0.0         0.0        0.0    1  \n",
       "\n",
       "[4796 rows x 13 columns]"
      ]
     },
     "execution_count": 6,
     "metadata": {},
     "output_type": "execute_result"
    }
   ],
   "source": [
    "processor = PatientDataProcessor()\n",
    "processor.create_meta_data_for_visit(visit_no=1)\n",
    "processor.get_data()"
   ]
  },
  {
   "cell_type": "code",
   "execution_count": 7,
   "metadata": {},
   "outputs": [
    {
     "name": "stderr",
     "output_type": "stream",
     "text": [
      "/Users/askelundsgaard/opt/anaconda3/envs/MLA/lib/python3.11/site-packages/torchvision/io/image.py:13: UserWarning: Failed to load image Python extension: 'dlopen(/Users/askelundsgaard/opt/anaconda3/envs/MLA/lib/python3.11/site-packages/torchvision/image.so, 0x0006): Symbol not found: __ZN3c1017RegisterOperatorsD1Ev\n",
      "  Referenced from: <E03EDA44-89AE-3115-9796-62BA9E0E2EDE> /Users/askelundsgaard/opt/anaconda3/envs/MLA/lib/python3.11/site-packages/torchvision/image.so\n",
      "  Expected in:     <D2077E4D-18BC-34B9-8A9B-1EF634A0F416> /Users/askelundsgaard/opt/anaconda3/envs/MLA/lib/python3.11/site-packages/torch/lib/libtorch_cpu.dylib'If you don't plan on using image functionality from `torchvision.io`, you can ignore this warning. Otherwise, there might be something wrong with your environment. Did you have `libjpeg` or `libpng` installed before building `torchvision` from source?\n",
      "  warn(\n"
     ]
    },
    {
     "data": {
      "text/plain": [
       "<module 'src.dataLoaders.NiftiDataLoader2' from '/Users/askelundsgaard/Documents/datalogi/6-semester/Bachelor/XAI-in-Medical-Image-Analysis/src/dataLoaders/NiftiDataLoader2.py'>"
      ]
     },
     "execution_count": 7,
     "metadata": {},
     "output_type": "execute_result"
    }
   ],
   "source": [
    "from src.dataLoaders.NiftiDataLoader2 import NiftiDataLoader\n",
    "importlib.reload(sys.modules['src.dataLoaders.NiftiDataLoader2'])"
   ]
  },
  {
   "cell_type": "code",
   "execution_count": 8,
   "metadata": {},
   "outputs": [
    {
     "name": "stdout",
     "output_type": "stream",
     "text": [
      "Total images detected: 19\n",
      "Total images: [{'image': '../datasets/nifti/niftiShort/9000798-Left-V01.nii.gz', 'label': 58.0}, {'image': '../datasets/nifti/niftiShort/9000798-Right-V01.nii.gz', 'label': 58.0}, {'image': '../datasets/nifti/niftiShort/9001695-Left-V01.nii.gz', 'label': 53.0}, {'image': '../datasets/nifti/niftiShort/9001695-Right-V01.nii.gz', 'label': 53.0}, {'image': '../datasets/nifti/niftiShort/9001897-Left-V01.nii.gz', 'label': 74.0}]\n",
      "Example train data: {'image': '../datasets/nifti/niftiShort/9002817-Left-V01.nii.gz', 'label': 78.0}\n",
      "Example validation data: {'image': '../datasets/nifti/niftiShort/9001897-Left-V01.nii.gz', 'label': 74.0}\n",
      "Example test data: {'image': '../datasets/nifti/niftiShort/9000798-Left-V01.nii.gz', 'label': 58.0}\n"
     ]
    },
    {
     "name": "stderr",
     "output_type": "stream",
     "text": [
      "Loading dataset: 100%|██████████| 13/13 [00:02<00:00,  4.66it/s]\n",
      "Loading dataset: 100%|██████████| 2/2 [00:00<00:00,  3.70it/s]\n",
      "Loading dataset: 100%|██████████| 4/4 [00:00<00:00,  5.46it/s]\n"
     ]
    }
   ],
   "source": [
    "dataset = 'niftiShort'\n",
    "data_path = '../datasets/nifti/'\n",
    "data_dir = f'{data_path}{dataset}'\n",
    "visit = 1\n",
    "\n",
    "data_loader = NiftiDataLoader(data_dir=data_dir, meta_data_loader=processor)\n",
    "data_loader.load_data(visit)"
   ]
  },
  {
   "cell_type": "code",
   "execution_count": 15,
   "metadata": {},
   "outputs": [
    {
     "data": {
      "text/plain": [
       "<module 'src.models.baseModels.resnet_3D_monai' from '/Users/askelundsgaard/Documents/datalogi/6-semester/Bachelor/XAI-in-Medical-Image-Analysis/src/models/baseModels/resnet_3D_monai.py'>"
      ]
     },
     "execution_count": 15,
     "metadata": {},
     "output_type": "execute_result"
    }
   ],
   "source": [
    "from src.models.baseModels.resnet_3D_monai import MedicalResNetModel\n",
    "importlib.reload(sys.modules['src.models.baseModels.resnet_3D_monai'])"
   ]
  },
  {
   "cell_type": "code",
   "execution_count": 16,
   "metadata": {},
   "outputs": [
    {
     "name": "stdout",
     "output_type": "stream",
     "text": [
      "Images shape: torch.Size([2, 1, 128, 128, 128])\n",
      "Labels: tensor([57., 63.])\n",
      "Outputs shape: tensor([[-0.4707],\n",
      "        [-0.2634]], grad_fn=<AliasBackward0>)\n",
      "Images shape: torch.Size([2, 1, 128, 128, 128])\n",
      "Labels: tensor([77., 53.])\n",
      "Outputs shape: tensor([[2.8745],\n",
      "        [4.8672]], grad_fn=<AliasBackward0>)\n",
      "Images shape: torch.Size([2, 1, 128, 128, 128])\n",
      "Labels: tensor([65., 64.])\n",
      "Outputs shape: tensor([[ 7.9083],\n",
      "        [13.2734]], grad_fn=<AliasBackward0>)\n",
      "Images shape: torch.Size([2, 1, 128, 128, 128])\n",
      "Labels: tensor([78., 51.])\n",
      "Outputs shape: tensor([[17.7447],\n",
      "        [18.6043]], grad_fn=<AliasBackward0>)\n",
      "Images shape: torch.Size([2, 1, 128, 128, 128])\n",
      "Labels: tensor([53., 78.])\n",
      "Outputs shape: tensor([[25.6340],\n",
      "        [23.6347]], grad_fn=<AliasBackward0>)\n"
     ]
    }
   ],
   "source": [
    "# Create a model instance\n",
    "model = MedicalResNetModel(\n",
    "    num_epochs=5,\n",
    "    learning_rate=0.01,\n",
    "    weight_decay=1e-4,\n",
    "    data_loader=data_loader,\n",
    "    dropout_rate=0.1,\n",
    ")\n",
    "\n",
    "# Train the model\n",
    "model.train()\n",
    "\n",
    "# Evaluate the model\n",
    "model.evaluate()"
   ]
  }
 ],
 "metadata": {
  "kernelspec": {
   "display_name": "MLA",
   "language": "python",
   "name": "python3"
  },
  "language_info": {
   "codemirror_mode": {
    "name": "ipython",
    "version": 3
   },
   "file_extension": ".py",
   "mimetype": "text/x-python",
   "name": "python",
   "nbconvert_exporter": "python",
   "pygments_lexer": "ipython3",
   "version": "3.11.4"
  }
 },
 "nbformat": 4,
 "nbformat_minor": 2
}
