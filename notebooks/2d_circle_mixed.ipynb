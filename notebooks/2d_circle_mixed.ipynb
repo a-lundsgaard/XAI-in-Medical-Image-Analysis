{
 "cells": [
  {
   "cell_type": "code",
   "execution_count": null,
   "metadata": {},
   "outputs": [],
   "source": [
    "import sys\n",
    "import os\n",
    "import importlib\n",
    "# make the module available from the src directory\n",
    "module_path = os.path.abspath(os.path.join('..'))\n",
    "if module_path not in sys.path:\n",
    "    sys.path.append(module_path)"
   ]
  },
  {
   "cell_type": "code",
   "execution_count": null,
   "metadata": {},
   "outputs": [],
   "source": [
    "from src.models.baseModels.resnet_regression import ResNetModel\n",
    "importlib.reload(sys.modules['src.models.baseModels.resnet_regression'])\n",
    "\n",
    "data_dir = '../datasets/artificial_data/'\n",
    "dataset_name = 'SimpleNoisyCircleImageGenerator'\n",
    "\n",
    "resnet = ResNetModel(\n",
    "    data_dir=f'{data_dir}{dataset_name}', \n",
    "    num_epochs=60,\n",
    "    learning_rate=0.01,\n",
    "    weight_decay=1e-3,\n",
    "    early_stopping_tol=30,\n",
    "    early_stopping_min_delta=10\n",
    ")\n",
    "\n",
    "\n",
    "resnet.load_data()\n",
    "resnet.train()\n",
    "resnet.evaluate()"
   ]
  },
  {
   "cell_type": "code",
   "execution_count": null,
   "metadata": {},
   "outputs": [],
   "source": [
    "from src.dataLoaders.DataLoader import DataSetLoader\n",
    "importlib.reload(sys.modules['src.dataLoaders.DataLoader'])\n",
    "\n",
    "dataset = 'SimpleNoisyImageGenerator'\n",
    "data_loader = DataSetLoader(data_dir=f'{data_dir}{dataset_name}')\n",
    "data_loader.load_data()"
   ]
  },
  {
   "cell_type": "code",
   "execution_count": null,
   "metadata": {},
   "outputs": [],
   "source": [
    "from src.XAI.GradCam import GradCamResnet\n",
    "importlib.reload(sys.modules['src.XAI.GradCam'])\n",
    "importlib.reload(sys.modules['src.XAI.utils.SaveFiles'])\n",
    "\n",
    "grad_cam = GradCamResnet(resnet)\n",
    "grad_cam.generateMultipleGradCam(20, save_output=True, save_dir='gradcam_output', externalEvalData=data_loader.testData)"
   ]
  }
 ],
 "metadata": {
  "language_info": {
   "name": "python"
  }
 },
 "nbformat": 4,
 "nbformat_minor": 2
}
