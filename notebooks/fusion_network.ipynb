{
 "cells": [
  {
   "cell_type": "code",
   "execution_count": 1,
   "metadata": {},
   "outputs": [],
   "source": [
    "import sys\n",
    "import importlib\n",
    "import os\n",
    "# make the module available from the src directory\n",
    "module_path = os.path.abspath(os.path.join('..'))\n",
    "if module_path not in sys.path:\n",
    "    sys.path.append(module_path)"
   ]
  },
  {
   "cell_type": "code",
   "execution_count": 2,
   "metadata": {},
   "outputs": [
    {
     "data": {
      "text/plain": [
       "<module 'src.dataLoaders.PatientDataLoader' from '/Users/askelundsgaard/Documents/datalogi/6-semester/Bachelor/XAI-in-Medical-Image-Analysis/src/dataLoaders/PatientDataLoader.py'>"
      ]
     },
     "execution_count": 2,
     "metadata": {},
     "output_type": "execute_result"
    }
   ],
   "source": [
    "from src.dataLoaders.PatientDataLoader import PatientDataProcessor\n",
    "importlib.reload(sys.modules['src.dataLoaders.PatientDataLoader'])"
   ]
  },
  {
   "cell_type": "code",
   "execution_count": 3,
   "metadata": {},
   "outputs": [],
   "source": [
    "meta_folder = 'OAIData21/'\n",
    "data_path = '../datasets/meta_data/' + meta_folder\n",
    "\n",
    "processor = PatientDataProcessor(base_path=data_path)\n",
    "meta_data = processor.load_all_clinical_data(labels=[\"WOMKP\"])"
   ]
  },
  {
   "cell_type": "code",
   "execution_count": 4,
   "metadata": {},
   "outputs": [
    {
     "name": "stderr",
     "output_type": "stream",
     "text": [
      "/Users/askelundsgaard/opt/anaconda3/envs/MLA/lib/python3.11/site-packages/torchvision/io/image.py:13: UserWarning: Failed to load image Python extension: 'dlopen(/Users/askelundsgaard/opt/anaconda3/envs/MLA/lib/python3.11/site-packages/torchvision/image.so, 0x0006): Symbol not found: __ZN3c1017RegisterOperatorsD1Ev\n",
      "  Referenced from: <E03EDA44-89AE-3115-9796-62BA9E0E2EDE> /Users/askelundsgaard/opt/anaconda3/envs/MLA/lib/python3.11/site-packages/torchvision/image.so\n",
      "  Expected in:     <D2077E4D-18BC-34B9-8A9B-1EF634A0F416> /Users/askelundsgaard/opt/anaconda3/envs/MLA/lib/python3.11/site-packages/torch/lib/libtorch_cpu.dylib'If you don't plan on using image functionality from `torchvision.io`, you can ignore this warning. Otherwise, there might be something wrong with your environment. Did you have `libjpeg` or `libpng` installed before building `torchvision` from source?\n",
      "  warn(\n"
     ]
    }
   ],
   "source": [
    "from src.dataLoaders.utils.BalancedDataLoader import BalancedBatchSampler\n",
    "importlib.reload(sys.modules['src.dataLoaders.utils.BalancedDataLoader'])\n",
    "\n",
    "from src.dataLoaders.NiftiDataLoader2 import NiftiDataLoader\n",
    "importlib.reload(sys.modules['src.dataLoaders.NiftiDataLoader2'])\n",
    "\n",
    "from src.transformers.SliceTransformer import SliceAggregateTransform\n",
    "importlib.reload(sys.modules['src.transformers.SliceTransformer'])\n",
    "custom_transforms = [SliceAggregateTransform(keys=[\"image\"], slices=9)]"
   ]
  },
  {
   "cell_type": "code",
   "execution_count": 5,
   "metadata": {},
   "outputs": [
    {
     "name": "stdout",
     "output_type": "stream",
     "text": [
      "File /Users/askelundsgaard/Documents/datalogi/6-semester/Bachelor/XAI-in-Medical-Image-Analysis/src/dataLoaders/saved_data_lists/data_list.pkl does not exist.\n",
      "Data list loaded: False\n",
      "Using custom sampler: False\n",
      "File /Users/askelundsgaard/Documents/datalogi/6-semester/Bachelor/XAI-in-Medical-Image-Analysis/src/dataLoaders/saved_data_lists/data_list.pkl does not exist.\n",
      "Visits: dict_keys([0, 1, 2, 3, 4, 5, 6, 7, 8, 9, 10, 11])\n",
      "Total images detected: 83\n",
      "Subset size: 83\n"
     ]
    },
    {
     "name": "stderr",
     "output_type": "stream",
     "text": [
      "Loading dataset: 100%|██████████| 65/65 [00:20<00:00,  3.16it/s]\n",
      "Loading dataset: 100%|██████████| 8/8 [00:02<00:00,  3.12it/s]\n",
      "Loading dataset: 100%|██████████| 8/8 [00:02<00:00,  3.26it/s]"
     ]
    },
    {
     "name": "stdout",
     "output_type": "stream",
     "text": [
      "batch_size: 32\n"
     ]
    },
    {
     "name": "stderr",
     "output_type": "stream",
     "text": [
      "\n"
     ]
    }
   ],
   "source": [
    "dataset = 'niftiShort'\n",
    "data_path = '../datasets/nifti/'\n",
    "data_dir = f'{data_path}{dataset}'\n",
    "\n",
    "# data_dir = 'C:/Users/askel/Downloads/NIFTY/NIFTY/'\n",
    "# max = 8876\n",
    "dim = 384\n",
    "data_loader = NiftiDataLoader(data_dir=data_dir, \n",
    "                              meta_data_loader=processor,\n",
    "                              batch_size=32,\n",
    "                              spatial_resize=(dim, dim, dim),\n",
    "                              cache_rate=0.5, \n",
    "                              replace_rate=1,\n",
    "                              custom_transforms=custom_transforms,\n",
    "                              custom_sampler=False\n",
    "                              )\n",
    "# data_loader.load_data(visit_no=visit, subset_size=2058, cache=\"standard\")\n",
    "# data_loader.load_data(subset_size=84, cache=\"standard\")\n",
    "#data_loader.load_data(subset_size=4400, cache=\"standard\")\n",
    "# data_loader.load_data(subset_size=8875, cache=\"standard\")\n",
    "# data_loader.load_data(cache=\"persistent\")\n",
    "data_loader.load_data(cache=\"standard\")"
   ]
  },
  {
   "cell_type": "code",
   "execution_count": 11,
   "metadata": {},
   "outputs": [
    {
     "data": {
      "text/plain": [
       "<module 'src.models.medical_models.combined_medical' from '/Users/askelundsgaard/Documents/datalogi/6-semester/Bachelor/XAI-in-Medical-Image-Analysis/src/models/medical_models/combined_medical.py'>"
      ]
     },
     "execution_count": 11,
     "metadata": {},
     "output_type": "execute_result"
    }
   ],
   "source": [
    "from src.models.medical_models.combined_medical import MedicalCombinedResNetModel\n",
    "importlib.reload(sys.modules['src.models.medical_models.combined_medical'])"
   ]
  },
  {
   "cell_type": "code",
   "execution_count": 12,
   "metadata": {},
   "outputs": [
    {
     "name": "stdout",
     "output_type": "stream",
     "text": [
      "Data loader train loader:  3 65\n",
      "Image spatial dimensions:  torch.Size([32, 9, 384, 384])\n",
      "Number of input channels:  9\n",
      "gpu:  mps:0\n",
      "Is cuda available:  False mps\n",
      "Number of training images: 65\n",
      "Epoch 1/50, Train Loss: 11.348268409570059, Val Loss: 14.497766494750977, R^2 Score: -1.5490577220916748\n",
      "Model saved at /Users/askelundsgaard/Documents/datalogi/6-semester/Bachelor/XAI-in-Medical-Image-Analysis/src/models/medical_models/saved_models/MedicalCombinedResNetModel_18_65_height_384_epoch_1_val_14.5_r2_14.5.pth\n",
      "Epoch 2/50, Train Loss: 42.04588953653971, Val Loss: 978.3509521484375, R^2 Score: -171.0177459716797\n",
      "Epoch 3/50, Train Loss: 15.605896612008413, Val Loss: 3769.2841796875, R^2 Score: -661.7312622070312\n",
      "Epoch 4/50, Train Loss: 3.1187978386878967, Val Loss: 2184.94921875, R^2 Score: -383.1669006347656\n",
      "Epoch 5/50, Train Loss: 3.0912237552305064, Val Loss: 818.6001586914062, R^2 Score: -142.92970275878906\n",
      "Epoch 6/50, Train Loss: 2.686594992876053, Val Loss: 300.2662353515625, R^2 Score: -51.794063568115234\n",
      "Epoch 7/50, Train Loss: 2.4313762386639914, Val Loss: 140.23497009277344, R^2 Score: -23.656700134277344\n",
      "Epoch 8/50, Train Loss: 1.864829142888387, Val Loss: 70.33399200439453, R^2 Score: -11.366415977478027\n",
      "Epoch 9/50, Train Loss: 1.4978930155436199, Val Loss: 35.79346466064453, R^2 Score: -5.293356418609619\n",
      "Epoch 10/50, Train Loss: 1.062301864226659, Val Loss: 23.115371704101562, R^2 Score: -3.064241409301758\n",
      "Epoch 11/50, Train Loss: 1.0888886352380116, Val Loss: 13.786785125732422, R^2 Score: -1.4240500926971436\n",
      "Model saved at /Users/askelundsgaard/Documents/datalogi/6-semester/Bachelor/XAI-in-Medical-Image-Analysis/src/models/medical_models/saved_models/MedicalCombinedResNetModel_18_65_height_384_epoch_11_val_13.79_r2_13.79.pth\n",
      "Epoch 12/50, Train Loss: 0.8298778235912323, Val Loss: 8.523329734802246, R^2 Score: -0.4986073970794678\n",
      "Model saved at /Users/askelundsgaard/Documents/datalogi/6-semester/Bachelor/XAI-in-Medical-Image-Analysis/src/models/medical_models/saved_models/MedicalCombinedResNetModel_18_65_height_384_epoch_12_val_8.52_r2_8.52.pth\n",
      "Epoch 13/50, Train Loss: 0.8688137630621592, Val Loss: 7.356292724609375, R^2 Score: -0.29341399669647217\n",
      "Model saved at /Users/askelundsgaard/Documents/datalogi/6-semester/Bachelor/XAI-in-Medical-Image-Analysis/src/models/medical_models/saved_models/MedicalCombinedResNetModel_18_65_height_384_epoch_13_val_7.36_r2_7.36.pth\n",
      "Epoch 14/50, Train Loss: 0.6943013270696005, Val Loss: 8.839834213256836, R^2 Score: -0.5542565584182739\n",
      "Epoch 15/50, Train Loss: 0.5748917609453201, Val Loss: 32.75700378417969, R^2 Score: -4.7594733238220215\n",
      "Epoch 16/50, Train Loss: 1.1407657861709595, Val Loss: 7.156734466552734, R^2 Score: -0.2583268880844116\n",
      "Model saved at /Users/askelundsgaard/Documents/datalogi/6-semester/Bachelor/XAI-in-Medical-Image-Analysis/src/models/medical_models/saved_models/MedicalCombinedResNetModel_18_65_height_384_epoch_16_val_7.16_r2_7.16.pth\n",
      "Epoch 17/50, Train Loss: 0.6229733480140567, Val Loss: 23.834484100341797, R^2 Score: -3.190678596496582\n",
      "Epoch 18/50, Train Loss: 0.7425199324886004, Val Loss: 17.817089080810547, R^2 Score: -2.1326749324798584\n",
      "Epoch 19/50, Train Loss: 0.5696038603782654, Val Loss: 16.809043884277344, R^2 Score: -1.9554362297058105\n",
      "Epoch 20/50, Train Loss: 0.5268395990133286, Val Loss: 4.480903625488281, R^2 Score: 0.2121487259864807\n",
      "Model saved at /Users/askelundsgaard/Documents/datalogi/6-semester/Bachelor/XAI-in-Medical-Image-Analysis/src/models/medical_models/saved_models/MedicalCombinedResNetModel_18_65_height_384_epoch_20_val_4.48_r2_4.48.pth\n",
      "Epoch 21/50, Train Loss: 0.39930684367815655, Val Loss: 3.5763158798217773, R^2 Score: 0.3711972236633301\n",
      "Model saved at /Users/askelundsgaard/Documents/datalogi/6-semester/Bachelor/XAI-in-Medical-Image-Analysis/src/models/medical_models/saved_models/MedicalCombinedResNetModel_18_65_height_384_epoch_21_val_3.58_r2_3.58.pth\n",
      "Epoch 22/50, Train Loss: 0.37338506430387497, Val Loss: 4.530745029449463, R^2 Score: 0.203385591506958\n",
      "Epoch 23/50, Train Loss: 0.2188809790338079, Val Loss: 6.706997394561768, R^2 Score: -0.1792522668838501\n",
      "Epoch 24/50, Train Loss: 0.28551337371269864, Val Loss: 4.0096588134765625, R^2 Score: 0.29500502347946167\n",
      "Epoch 25/50, Train Loss: 5.761167834202449, Val Loss: 3.7394285202026367, R^2 Score: 0.3425180912017822\n",
      "Epoch 26/50, Train Loss: 1.1472164591153462, Val Loss: 6.316620826721191, R^2 Score: -0.11061465740203857\n",
      "Epoch 27/50, Train Loss: 1.2323271036148071, Val Loss: 4.368943214416504, R^2 Score: 0.23183417320251465\n",
      "Epoch 28/50, Train Loss: 0.4099646906057994, Val Loss: 6.691205024719238, R^2 Score: -0.1764756441116333\n",
      "Epoch 29/50, Train Loss: 0.6347216640909513, Val Loss: 7.216235160827637, R^2 Score: -0.26878857612609863\n",
      "Epoch 30/50, Train Loss: 1.0302217528223991, Val Loss: 7.2436137199401855, R^2 Score: -0.27360236644744873\n",
      "Epoch 31/50, Train Loss: 0.5809150189161301, Val Loss: 6.458166122436523, R^2 Score: -0.13550174236297607\n",
      "Epoch 32/50, Train Loss: 0.4035715311765671, Val Loss: 3.980314254760742, R^2 Score: 0.30016452074050903\n",
      "Epoch 33/50, Train Loss: 0.6889711121718088, Val Loss: 7.5446319580078125, R^2 Score: -0.3265286684036255\n",
      "Epoch 34/50, Train Loss: 0.35654739042123157, Val Loss: 5.36492395401001, R^2 Score: 0.056716740131378174\n",
      "Epoch 35/50, Train Loss: 0.49666521449883777, Val Loss: 6.094089508056641, R^2 Score: -0.07148826122283936\n",
      "Epoch 36/50, Train Loss: 8.640667031208674, Val Loss: 8.911724090576172, R^2 Score: -0.5668965578079224\n",
      "Epoch 37/50, Train Loss: 2.592376093069712, Val Loss: 5.694079399108887, R^2 Score: -0.0011566877365112305\n",
      "Epoch 38/50, Train Loss: 3.644597291946411, Val Loss: 5.469317436218262, R^2 Score: 0.03836184740066528\n",
      "Epoch 39/50, Train Loss: 2.06679368019104, Val Loss: 5.436368942260742, R^2 Score: 0.04415488243103027\n",
      "Epoch 40/50, Train Loss: 0.8374603490034739, Val Loss: 8.995957374572754, R^2 Score: -0.5817070007324219\n",
      "Epoch 41/50, Train Loss: 1.162712190921108, Val Loss: 8.420965194702148, R^2 Score: -0.48060929775238037\n",
      "Epoch 42/50, Train Loss: 21.5806245803833, Val Loss: 5.987339973449707, R^2 Score: -0.0527191162109375\n",
      "Epoch 43/50, Train Loss: 2.1005696853001914, Val Loss: 4.402683258056641, R^2 Score: 0.22590190172195435\n",
      "Epoch 44/50, Train Loss: 1.8226519444336493, Val Loss: 5.6650919914245605, R^2 Score: 0.003939926624298096\n",
      "Epoch 45/50, Train Loss: 4.648327986399333, Val Loss: 21.9446964263916, R^2 Score: -2.858407735824585\n",
      "Epoch 46/50, Train Loss: 1.5145527521769206, Val Loss: 19.66349220275879, R^2 Score: -2.4573168754577637\n",
      "Epoch 47/50, Train Loss: 7.477271795272827, Val Loss: 12.378107070922852, R^2 Score: -1.17637038230896\n",
      "Epoch 48/50, Train Loss: 5.974718491236369, Val Loss: 7.169753074645996, R^2 Score: -0.2606159448623657\n",
      "Epoch 49/50, Train Loss: 1.1441015402475994, Val Loss: 5.574202060699463, R^2 Score: 0.019920527935028076\n",
      "Epoch 50/50, Train Loss: 3.2946541706720986, Val Loss: 5.767961025238037, R^2 Score: -0.014147043228149414\n"
     ]
    }
   ],
   "source": [
    "combined_model = MedicalCombinedResNetModel(\n",
    "        num_epochs=50,\n",
    "        learning_rate=0.001,\n",
    "        weight_decay=1e-4,\n",
    "        data_loader=data_loader,\n",
    "        dropout_rate=0.1,\n",
    "        depth=18,\n",
    "    )\n",
    "\n",
    "combined_model.train()"
   ]
  }
 ],
 "metadata": {
  "kernelspec": {
   "display_name": "MLA",
   "language": "python",
   "name": "python3"
  },
  "language_info": {
   "codemirror_mode": {
    "name": "ipython",
    "version": 3
   },
   "file_extension": ".py",
   "mimetype": "text/x-python",
   "name": "python",
   "nbconvert_exporter": "python",
   "pygments_lexer": "ipython3",
   "version": "3.11.4"
  }
 },
 "nbformat": 4,
 "nbformat_minor": 2
}
