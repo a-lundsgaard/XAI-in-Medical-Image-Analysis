{
 "cells": [
  {
   "cell_type": "code",
   "execution_count": 3,
   "metadata": {},
   "outputs": [],
   "source": [
    "import sys\n",
    "import importlib\n",
    "import os\n",
    "# make the module available from the src directory\n",
    "module_path = os.path.abspath(os.path.join('..'))\n",
    "if module_path not in sys.path:\n",
    "    sys.path.append(module_path)"
   ]
  },
  {
   "cell_type": "code",
   "execution_count": 5,
   "metadata": {},
   "outputs": [
    {
     "data": {
      "text/plain": [
       "<module 'src.dataLoaders.PatientDataLoader' from '/Users/askelundsgaard/Documents/datalogi/6-semester/Bachelor/XAI-in-Medical-Image-Analysis/src/dataLoaders/PatientDataLoader.py'>"
      ]
     },
     "execution_count": 5,
     "metadata": {},
     "output_type": "execute_result"
    }
   ],
   "source": [
    "from src.dataLoaders.PatientDataLoader import PatientDataProcessor\n",
    "importlib.reload(sys.modules['src.dataLoaders.PatientDataLoader'])"
   ]
  },
  {
   "cell_type": "code",
   "execution_count": 6,
   "metadata": {},
   "outputs": [],
   "source": [
    "meta_folder = 'OAIData21/'\n",
    "data_path = '../datasets/meta_data/' + meta_folder\n",
    "\n",
    "processor = PatientDataProcessor(base_path=data_path)\n",
    "meta_data = processor.load_all_clinical_data(labels=[\"WOMKP\"])"
   ]
  },
  {
   "cell_type": "code",
   "execution_count": 7,
   "metadata": {},
   "outputs": [
    {
     "name": "stderr",
     "output_type": "stream",
     "text": [
      "/Users/askelundsgaard/opt/anaconda3/envs/MLA/lib/python3.11/site-packages/torchvision/io/image.py:13: UserWarning: Failed to load image Python extension: 'dlopen(/Users/askelundsgaard/opt/anaconda3/envs/MLA/lib/python3.11/site-packages/torchvision/image.so, 0x0006): Symbol not found: __ZN3c1017RegisterOperatorsD1Ev\n",
      "  Referenced from: <E03EDA44-89AE-3115-9796-62BA9E0E2EDE> /Users/askelundsgaard/opt/anaconda3/envs/MLA/lib/python3.11/site-packages/torchvision/image.so\n",
      "  Expected in:     <D2077E4D-18BC-34B9-8A9B-1EF634A0F416> /Users/askelundsgaard/opt/anaconda3/envs/MLA/lib/python3.11/site-packages/torch/lib/libtorch_cpu.dylib'If you don't plan on using image functionality from `torchvision.io`, you can ignore this warning. Otherwise, there might be something wrong with your environment. Did you have `libjpeg` or `libpng` installed before building `torchvision` from source?\n",
      "  warn(\n"
     ]
    }
   ],
   "source": [
    "from src.dataLoaders.utils.BalancedDataLoader import BalancedBatchSampler\n",
    "importlib.reload(sys.modules['src.dataLoaders.utils.BalancedDataLoader'])\n",
    "\n",
    "from src.dataLoaders.NiftiDataLoader2 import NiftiDataLoader\n",
    "importlib.reload(sys.modules['src.dataLoaders.NiftiDataLoader2'])\n",
    "\n",
    "from src.transformers.SliceTransformer import SliceAggregateTransform\n",
    "importlib.reload(sys.modules['src.transformers.SliceTransformer'])\n",
    "custom_transforms = [SliceAggregateTransform(keys=[\"image\"], slices=9)]"
   ]
  },
  {
   "cell_type": "code",
   "execution_count": 8,
   "metadata": {},
   "outputs": [],
   "source": [
    "from src.dataLoaders.utils.BalancedDataLoader import BalancedBatchSampler\n",
    "importlib.reload(sys.modules['src.dataLoaders.utils.BalancedDataLoader'])\n",
    "\n",
    "from src.dataLoaders.NiftiDataLoader2 import NiftiDataLoader\n",
    "importlib.reload(sys.modules['src.dataLoaders.NiftiDataLoader2'])\n",
    "\n",
    "from src.transformers.SliceTransformer import SliceAggregateTransform\n",
    "importlib.reload(sys.modules['src.transformers.SliceTransformer'])\n",
    "custom_transforms = [SliceAggregateTransform(keys=[\"image\"], slices=9)]"
   ]
  },
  {
   "cell_type": "code",
   "execution_count": 9,
   "metadata": {},
   "outputs": [
    {
     "name": "stdout",
     "output_type": "stream",
     "text": [
      "File /Users/askelundsgaard/Documents/datalogi/6-semester/Bachelor/XAI-in-Medical-Image-Analysis/src/dataLoaders/saved_data_lists/data_list.pkl does not exist.\n",
      "Data list loaded: False\n",
      "Using custom sampler: False\n",
      "File /Users/askelundsgaard/Documents/datalogi/6-semester/Bachelor/XAI-in-Medical-Image-Analysis/src/dataLoaders/saved_data_lists/data_list.pkl does not exist.\n",
      "Visits: dict_keys([0, 1, 2, 3, 4, 5, 6, 7, 8, 9, 10, 11])\n",
      "Total images detected: 83\n",
      "Subset size: 83\n"
     ]
    },
    {
     "name": "stderr",
     "output_type": "stream",
     "text": [
      "Loading dataset: 100%|██████████| 65/65 [00:17<00:00,  3.69it/s]\n",
      "Loading dataset: 100%|██████████| 8/8 [00:02<00:00,  3.76it/s]\n",
      "Loading dataset: 100%|██████████| 8/8 [00:02<00:00,  3.81it/s]"
     ]
    },
    {
     "name": "stdout",
     "output_type": "stream",
     "text": [
      "batch_size: 32\n"
     ]
    },
    {
     "name": "stderr",
     "output_type": "stream",
     "text": [
      "\n"
     ]
    }
   ],
   "source": [
    "dataset = 'niftiShort'\n",
    "data_path = '../datasets/nifti/'\n",
    "data_dir = f'{data_path}{dataset}'\n",
    "\n",
    "# data_dir = 'C:/Users/askel/Downloads/NIFTY/NIFTY/'\n",
    "# max = 8876\n",
    "dim = 384\n",
    "data_loader = NiftiDataLoader(data_dir=data_dir, \n",
    "                              meta_data_loader=processor,\n",
    "                              batch_size=32,\n",
    "                              spatial_resize=(dim, dim, dim),\n",
    "                              cache_rate=0.5, \n",
    "                              replace_rate=1,\n",
    "                              custom_transforms=custom_transforms,\n",
    "                              custom_sampler=False\n",
    "                              )\n",
    "# data_loader.load_data(visit_no=visit, subset_size=2058, cache=\"standard\")\n",
    "# data_loader.load_data(subset_size=84, cache=\"standard\")\n",
    "#data_loader.load_data(subset_size=4400, cache=\"standard\")\n",
    "# data_loader.load_data(subset_size=8875, cache=\"standard\")\n",
    "# data_loader.load_data(cache=\"persistent\")\n",
    "data_loader.load_data(cache=\"standard\")"
   ]
  },
  {
   "cell_type": "code",
   "execution_count": 10,
   "metadata": {},
   "outputs": [
    {
     "data": {
      "text/plain": [
       "<module 'src.models.medical_models.combined_medical' from '/Users/askelundsgaard/Documents/datalogi/6-semester/Bachelor/XAI-in-Medical-Image-Analysis/src/models/medical_models/combined_medical.py'>"
      ]
     },
     "execution_count": 10,
     "metadata": {},
     "output_type": "execute_result"
    }
   ],
   "source": [
    "from src.models.medical_models.combined_medical import MedicalCombinedResNetModel\n",
    "from src.models.medical_models.combined_medical import CombinedResNetModel\n",
    "importlib.reload(sys.modules['src.models.medical_models.combined_medical'])"
   ]
  },
  {
   "cell_type": "code",
   "execution_count": 39,
   "metadata": {},
   "outputs": [
    {
     "data": {
      "text/plain": [
       "<module 'src.models.medical_models.adaptive_slicing_medical_resnet' from '/Users/askelundsgaard/Documents/datalogi/6-semester/Bachelor/XAI-in-Medical-Image-Analysis/src/models/medical_models/adaptive_slicing_medical_resnet.py'>"
      ]
     },
     "execution_count": 39,
     "metadata": {},
     "output_type": "execute_result"
    }
   ],
   "source": [
    "\n",
    "from src.models.medical_models.medical_resnet import MedicalResNetModel\n",
    "importlib.reload(sys.modules['src.models.medical_models.base_medical'])\n",
    "importlib.reload(sys.modules['src.models.medical_models.medical_resnet'])\n",
    "\n",
    "\n",
    "from src.models.medical_models.monai_resnet import MonaiMedicalResNet\n",
    "importlib.reload(sys.modules['src.models.medical_models.monai_resnet'])\n",
    "\n",
    "# from src.models.medical_models.utils.AdaptiveSlicing import AdaptiveSlicingModule\n",
    "# importlib.reload(sys.modules['src.models.medical_models.utils.AdaptiveSlicing'])\n",
    "\n",
    "from src.models.medical_models.adaptive_slicing_medical_resnet import AdaptiveMedicalResNetModel\n",
    "importlib.reload(sys.modules['src.models.medical_models.adaptive_slicing_medical_resnet'])\n",
    "\n"
   ]
  },
  {
   "cell_type": "code",
   "execution_count": 41,
   "metadata": {},
   "outputs": [
    {
     "name": "stdout",
     "output_type": "stream",
     "text": [
      "Data loader train loader:  3 65\n",
      "Image spatial dimensions:  torch.Size([32, 9, 384, 384])\n",
      "Number of input channels:  9\n",
      "model:  <generator object Module.parameters at 0x1d19220a0>\n",
      "gpu:  mps:0\n"
     ]
    },
    {
     "ename": "RuntimeError",
     "evalue": "Error(s) in loading state_dict for ResNet:\n\tMissing key(s) in state_dict: \"fc.1.weight\", \"fc.1.bias\". \n\tUnexpected key(s) in state_dict: \"fc.weight\", \"fc.bias\". ",
     "output_type": "error",
     "traceback": [
      "\u001b[0;31m---------------------------------------------------------------------------\u001b[0m",
      "\u001b[0;31mRuntimeError\u001b[0m                              Traceback (most recent call last)",
      "Cell \u001b[0;32mIn[41], line 12\u001b[0m\n\u001b[1;32m      1\u001b[0m medicalResNetModel \u001b[38;5;241m=\u001b[39m MedicalResNetModel(\n\u001b[1;32m      2\u001b[0m     num_epochs\u001b[38;5;241m=\u001b[39m\u001b[38;5;241m300\u001b[39m,\n\u001b[1;32m      3\u001b[0m     learning_rate\u001b[38;5;241m=\u001b[39m\u001b[38;5;241m0.001\u001b[39m,\n\u001b[0;32m   (...)\u001b[0m\n\u001b[1;32m      8\u001b[0m     \u001b[38;5;66;03m#pretrained=False\u001b[39;00m\n\u001b[1;32m      9\u001b[0m )\n\u001b[1;32m     10\u001b[0m \u001b[38;5;66;03m# medicalResNetModel.get_single_train_image(index=0)\u001b[39;00m\n\u001b[0;32m---> 12\u001b[0m \u001b[43mmedicalResNetModel\u001b[49m\u001b[38;5;241;43m.\u001b[39;49m\u001b[43mload_model\u001b[49m\u001b[43m(\u001b[49m\u001b[38;5;124;43m\"\u001b[39;49m\u001b[38;5;124;43mMedicalResNetModel_18_3999_height_torch.Size([32, 9, 256, 256])_epoch_7_val_1.2_r2_0.96.pth\u001b[39;49m\u001b[38;5;124;43m\"\u001b[39;49m\u001b[43m)\u001b[49m\n",
      "File \u001b[0;32m~/Documents/datalogi/6-semester/Bachelor/XAI-in-Medical-Image-Analysis/src/models/medical_models/base_medical.py:273\u001b[0m, in \u001b[0;36mBaseMedical.load_model\u001b[0;34m(self, model_name)\u001b[0m\n\u001b[1;32m    271\u001b[0m checkpoint: \u001b[38;5;28mdict\u001b[39m \u001b[38;5;241m=\u001b[39m torch\u001b[38;5;241m.\u001b[39mload(path, map_location\u001b[38;5;241m=\u001b[39m\u001b[38;5;28mself\u001b[39m\u001b[38;5;241m.\u001b[39mdevice)\n\u001b[1;32m    272\u001b[0m \u001b[38;5;66;03m#self.model.load_state_dict\u001b[39;00m\n\u001b[0;32m--> 273\u001b[0m \u001b[38;5;28;43mself\u001b[39;49m\u001b[38;5;241;43m.\u001b[39;49m\u001b[43mmodel\u001b[49m\u001b[38;5;241;43m.\u001b[39;49m\u001b[43mload_state_dict\u001b[49m\u001b[43m(\u001b[49m\u001b[43mcheckpoint\u001b[49m\u001b[43m[\u001b[49m\u001b[38;5;124;43m'\u001b[39;49m\u001b[38;5;124;43mmodel_state_dict\u001b[39;49m\u001b[38;5;124;43m'\u001b[39;49m\u001b[43m]\u001b[49m\u001b[43m)\u001b[49m\n\u001b[1;32m    274\u001b[0m \u001b[38;5;28mself\u001b[39m\u001b[38;5;241m.\u001b[39moptimizer\u001b[38;5;241m.\u001b[39mload_state_dict(checkpoint[\u001b[38;5;124m'\u001b[39m\u001b[38;5;124moptimizer_state_dict\u001b[39m\u001b[38;5;124m'\u001b[39m])\n\u001b[1;32m    275\u001b[0m epoch \u001b[38;5;241m=\u001b[39m checkpoint[\u001b[38;5;124m'\u001b[39m\u001b[38;5;124mepoch\u001b[39m\u001b[38;5;124m'\u001b[39m]\n",
      "File \u001b[0;32m~/opt/anaconda3/envs/MLA/lib/python3.11/site-packages/torch/nn/modules/module.py:2184\u001b[0m, in \u001b[0;36mModule.load_state_dict\u001b[0;34m(self, state_dict, strict, assign)\u001b[0m\n\u001b[1;32m   2179\u001b[0m         error_msgs\u001b[38;5;241m.\u001b[39minsert(\n\u001b[1;32m   2180\u001b[0m             \u001b[38;5;241m0\u001b[39m, \u001b[38;5;124m'\u001b[39m\u001b[38;5;124mMissing key(s) in state_dict: \u001b[39m\u001b[38;5;132;01m{}\u001b[39;00m\u001b[38;5;124m. \u001b[39m\u001b[38;5;124m'\u001b[39m\u001b[38;5;241m.\u001b[39mformat(\n\u001b[1;32m   2181\u001b[0m                 \u001b[38;5;124m'\u001b[39m\u001b[38;5;124m, \u001b[39m\u001b[38;5;124m'\u001b[39m\u001b[38;5;241m.\u001b[39mjoin(\u001b[38;5;124mf\u001b[39m\u001b[38;5;124m'\u001b[39m\u001b[38;5;124m\"\u001b[39m\u001b[38;5;132;01m{\u001b[39;00mk\u001b[38;5;132;01m}\u001b[39;00m\u001b[38;5;124m\"\u001b[39m\u001b[38;5;124m'\u001b[39m \u001b[38;5;28;01mfor\u001b[39;00m k \u001b[38;5;129;01min\u001b[39;00m missing_keys)))\n\u001b[1;32m   2183\u001b[0m \u001b[38;5;28;01mif\u001b[39;00m \u001b[38;5;28mlen\u001b[39m(error_msgs) \u001b[38;5;241m>\u001b[39m \u001b[38;5;241m0\u001b[39m:\n\u001b[0;32m-> 2184\u001b[0m     \u001b[38;5;28;01mraise\u001b[39;00m \u001b[38;5;167;01mRuntimeError\u001b[39;00m(\u001b[38;5;124m'\u001b[39m\u001b[38;5;124mError(s) in loading state_dict for \u001b[39m\u001b[38;5;132;01m{}\u001b[39;00m\u001b[38;5;124m:\u001b[39m\u001b[38;5;130;01m\\n\u001b[39;00m\u001b[38;5;130;01m\\t\u001b[39;00m\u001b[38;5;132;01m{}\u001b[39;00m\u001b[38;5;124m'\u001b[39m\u001b[38;5;241m.\u001b[39mformat(\n\u001b[1;32m   2185\u001b[0m                        \u001b[38;5;28mself\u001b[39m\u001b[38;5;241m.\u001b[39m\u001b[38;5;18m__class__\u001b[39m\u001b[38;5;241m.\u001b[39m\u001b[38;5;18m__name__\u001b[39m, \u001b[38;5;124m\"\u001b[39m\u001b[38;5;130;01m\\n\u001b[39;00m\u001b[38;5;130;01m\\t\u001b[39;00m\u001b[38;5;124m\"\u001b[39m\u001b[38;5;241m.\u001b[39mjoin(error_msgs)))\n\u001b[1;32m   2186\u001b[0m \u001b[38;5;28;01mreturn\u001b[39;00m _IncompatibleKeys(missing_keys, unexpected_keys)\n",
      "\u001b[0;31mRuntimeError\u001b[0m: Error(s) in loading state_dict for ResNet:\n\tMissing key(s) in state_dict: \"fc.1.weight\", \"fc.1.bias\". \n\tUnexpected key(s) in state_dict: \"fc.weight\", \"fc.bias\". "
     ]
    }
   ],
   "source": [
    "medicalResNetModel = MedicalResNetModel(\n",
    "    num_epochs=300,\n",
    "    learning_rate=0.001,\n",
    "    weight_decay=1e-4,\n",
    "    data_loader=data_loader,\n",
    "    dropout_rate=0.1,\n",
    "    depth=18\n",
    "    #pretrained=False\n",
    ")\n",
    "# medicalResNetModel.get_single_train_image(index=0)\n",
    "\n",
    "medicalResNetModel.load_model(\"MedicalResNetModel_18_3999_height_torch.Size([32, 9, 256, 256])_epoch_7_val_1.2_r2_0.96.pth\")\n"
   ]
  },
  {
   "cell_type": "code",
   "execution_count": null,
   "metadata": {},
   "outputs": [],
   "source": [
    "from src.XAI.GradCamMedical import GradCamResnet\n",
    "importlib.reload(sys.modules['src.XAI.GradCamMedical'])"
   ]
  },
  {
   "cell_type": "code",
   "execution_count": null,
   "metadata": {},
   "outputs": [],
   "source": [
    "grad_cam = GradCamResnet(modelWrapper=medicalResNetModel)\n",
    "\n",
    "grad_cam.generate_map()"
   ]
  },
  {
   "cell_type": "code",
   "execution_count": null,
   "metadata": {},
   "outputs": [
    {
     "name": "stdout",
     "output_type": "stream",
     "text": [
      "Data loader train loader:  222 7095\n",
      "Image spatial dimensions:  torch.Size([32, 9, 384, 384])\n",
      "Number of input channels:  9\n",
      "gpu:  cuda:0\n"
     ]
    }
   ],
   "source": [
    "combined_model = MedicalCombinedResNetModel(\n",
    "        num_epochs=150,\n",
    "        learning_rate=0.001,\n",
    "        weight_decay=1e-4,\n",
    "        data_loader=data_loader,\n",
    "        dropout_rate=0.1,\n",
    "        depth=18,\n",
    "    )\n",
    "\n",
    "# combined_model.train()"
   ]
  },
  {
   "cell_type": "code",
   "execution_count": null,
   "metadata": {},
   "outputs": [
    {
     "ename": "RuntimeError",
     "evalue": "PytorchStreamReader failed reading zip archive: failed finding central directory",
     "output_type": "error",
     "traceback": [
      "\u001b[1;31m---------------------------------------------------------------------------\u001b[0m",
      "\u001b[1;31mRuntimeError\u001b[0m                              Traceback (most recent call last)",
      "Cell \u001b[1;32mIn[10], line 1\u001b[0m\n\u001b[1;32m----> 1\u001b[0m \u001b[43mcombined_model\u001b[49m\u001b[38;5;241;43m.\u001b[39;49m\u001b[43mload_model\u001b[49m\u001b[43m(\u001b[49m\u001b[38;5;124;43m'\u001b[39;49m\u001b[38;5;124;43mc:\u001b[39;49m\u001b[38;5;124;43m\\\u001b[39;49m\u001b[38;5;124;43mDatalogi\u001b[39;49m\u001b[38;5;124;43m\\\u001b[39;49m\u001b[38;5;124;43mBachelor\u001b[39;49m\u001b[38;5;124;43m\\\u001b[39;49m\u001b[38;5;124;43mXAI-in-Medical-Image-Analysis\u001b[39;49m\u001b[38;5;124;43m\\\u001b[39;49m\u001b[38;5;124;43msrc\u001b[39;49m\u001b[38;5;124;43m\\\u001b[39;49m\u001b[38;5;124;43mmodels\u001b[39;49m\u001b[38;5;124;43m\\\u001b[39;49m\u001b[38;5;124;43mmedical_models\u001b[39;49m\u001b[38;5;124;43m\\\u001b[39;49m\u001b[38;5;124;43msaved_models\u001b[39;49m\u001b[38;5;124;43m\\\u001b[39;49m\u001b[38;5;124;43mMedicalCombinedResNetModel_18_7095_height_384_epoch_5_val_7.61_r2_7.61.pth\u001b[39;49m\u001b[38;5;124;43m'\u001b[39;49m\u001b[43m)\u001b[49m\n",
      "File \u001b[1;32mc:\\Datalogi\\Bachelor\\XAI-in-Medical-Image-Analysis\\src\\models\\medical_models\\base_medical.py:232\u001b[0m, in \u001b[0;36mMedicalResNetModelBase.load_model\u001b[1;34m(self, model_name)\u001b[0m\n\u001b[0;32m    229\u001b[0m \u001b[38;5;28;01mif\u001b[39;00m \u001b[38;5;129;01mnot\u001b[39;00m os\u001b[38;5;241m.\u001b[39mpath\u001b[38;5;241m.\u001b[39misfile(path):\n\u001b[0;32m    230\u001b[0m     \u001b[38;5;28;01mraise\u001b[39;00m \u001b[38;5;167;01mFileNotFoundError\u001b[39;00m(\u001b[38;5;124mf\u001b[39m\u001b[38;5;124m\"\u001b[39m\u001b[38;5;124mNo checkpoint found at \u001b[39m\u001b[38;5;124m'\u001b[39m\u001b[38;5;132;01m{\u001b[39;00mpath\u001b[38;5;132;01m}\u001b[39;00m\u001b[38;5;124m'\u001b[39m\u001b[38;5;124m\"\u001b[39m)\n\u001b[1;32m--> 232\u001b[0m checkpoint: \u001b[38;5;28mdict\u001b[39m \u001b[38;5;241m=\u001b[39m \u001b[43mtorch\u001b[49m\u001b[38;5;241;43m.\u001b[39;49m\u001b[43mload\u001b[49m\u001b[43m(\u001b[49m\u001b[43mpath\u001b[49m\u001b[43m,\u001b[49m\u001b[43m \u001b[49m\u001b[43mmap_location\u001b[49m\u001b[38;5;241;43m=\u001b[39;49m\u001b[38;5;28;43mself\u001b[39;49m\u001b[38;5;241;43m.\u001b[39;49m\u001b[43mdevice\u001b[49m\u001b[43m)\u001b[49m\n\u001b[0;32m    233\u001b[0m \u001b[38;5;66;03m#self.model.load_state_dict\u001b[39;00m\n\u001b[0;32m    234\u001b[0m \u001b[38;5;28mself\u001b[39m\u001b[38;5;241m.\u001b[39mmodel\u001b[38;5;241m.\u001b[39mload_state_dict(checkpoint[\u001b[38;5;124m'\u001b[39m\u001b[38;5;124mmodel_state_dict\u001b[39m\u001b[38;5;124m'\u001b[39m])\n",
      "File \u001b[1;32mc:\\Users\\askel\\anaconda3\\envs\\MLA\\Lib\\site-packages\\torch\\serialization.py:1005\u001b[0m, in \u001b[0;36mload\u001b[1;34m(f, map_location, pickle_module, weights_only, mmap, **pickle_load_args)\u001b[0m\n\u001b[0;32m   1003\u001b[0m orig_position \u001b[38;5;241m=\u001b[39m opened_file\u001b[38;5;241m.\u001b[39mtell()\n\u001b[0;32m   1004\u001b[0m overall_storage \u001b[38;5;241m=\u001b[39m \u001b[38;5;28;01mNone\u001b[39;00m\n\u001b[1;32m-> 1005\u001b[0m \u001b[38;5;28;01mwith\u001b[39;00m \u001b[43m_open_zipfile_reader\u001b[49m\u001b[43m(\u001b[49m\u001b[43mopened_file\u001b[49m\u001b[43m)\u001b[49m \u001b[38;5;28;01mas\u001b[39;00m opened_zipfile:\n\u001b[0;32m   1006\u001b[0m     \u001b[38;5;28;01mif\u001b[39;00m _is_torchscript_zip(opened_zipfile):\n\u001b[0;32m   1007\u001b[0m         warnings\u001b[38;5;241m.\u001b[39mwarn(\u001b[38;5;124m\"\u001b[39m\u001b[38;5;124m'\u001b[39m\u001b[38;5;124mtorch.load\u001b[39m\u001b[38;5;124m'\u001b[39m\u001b[38;5;124m received a zip file that looks like a TorchScript archive\u001b[39m\u001b[38;5;124m\"\u001b[39m\n\u001b[0;32m   1008\u001b[0m                       \u001b[38;5;124m\"\u001b[39m\u001b[38;5;124m dispatching to \u001b[39m\u001b[38;5;124m'\u001b[39m\u001b[38;5;124mtorch.jit.load\u001b[39m\u001b[38;5;124m'\u001b[39m\u001b[38;5;124m (call \u001b[39m\u001b[38;5;124m'\u001b[39m\u001b[38;5;124mtorch.jit.load\u001b[39m\u001b[38;5;124m'\u001b[39m\u001b[38;5;124m directly to\u001b[39m\u001b[38;5;124m\"\u001b[39m\n\u001b[0;32m   1009\u001b[0m                       \u001b[38;5;124m\"\u001b[39m\u001b[38;5;124m silence this warning)\u001b[39m\u001b[38;5;124m\"\u001b[39m, \u001b[38;5;167;01mUserWarning\u001b[39;00m)\n",
      "File \u001b[1;32mc:\\Users\\askel\\anaconda3\\envs\\MLA\\Lib\\site-packages\\torch\\serialization.py:457\u001b[0m, in \u001b[0;36m_open_zipfile_reader.__init__\u001b[1;34m(self, name_or_buffer)\u001b[0m\n\u001b[0;32m    456\u001b[0m \u001b[38;5;28;01mdef\u001b[39;00m \u001b[38;5;21m__init__\u001b[39m(\u001b[38;5;28mself\u001b[39m, name_or_buffer) \u001b[38;5;241m-\u001b[39m\u001b[38;5;241m>\u001b[39m \u001b[38;5;28;01mNone\u001b[39;00m:\n\u001b[1;32m--> 457\u001b[0m     \u001b[38;5;28msuper\u001b[39m()\u001b[38;5;241m.\u001b[39m\u001b[38;5;21m__init__\u001b[39m(\u001b[43mtorch\u001b[49m\u001b[38;5;241;43m.\u001b[39;49m\u001b[43m_C\u001b[49m\u001b[38;5;241;43m.\u001b[39;49m\u001b[43mPyTorchFileReader\u001b[49m\u001b[43m(\u001b[49m\u001b[43mname_or_buffer\u001b[49m\u001b[43m)\u001b[49m)\n",
      "\u001b[1;31mRuntimeError\u001b[0m: PytorchStreamReader failed reading zip archive: failed finding central directory"
     ]
    }
   ],
   "source": [
    "# combined_model.load_model('c:\\Datalogi\\Bachelor\\XAI-in-Medical-Image-Analysis\\src\\models\\medical_models\\saved_models\\MedicalCombinedResNetModel_18_7095_height_384_epoch_5_val_7.61_r2_7.61.pth')"
   ]
  },
  {
   "cell_type": "code",
   "execution_count": null,
   "metadata": {},
   "outputs": [
    {
     "name": "stdout",
     "output_type": "stream",
     "text": [
      "Is cuda available:  True cuda\n",
      "Number of training images: 7095\n",
      "Epoch 1/150, Train Loss: 8.623961095337394, Val Loss: 11.303757633481707, R^2 Score: -0.2572958469390869\n",
      "Model saved at c:\\Datalogi\\Bachelor\\XAI-in-Medical-Image-Analysis\\src\\models\\medical_models\\saved_models\\MedicalCombinedResNetModel_18_7095_height_384_epoch_1_val_11.3_r2_11.3.pth\n",
      "Epoch 2/150, Train Loss: 8.092557389456946, Val Loss: 7.832737420286451, R^2 Score: 0.1321253776550293\n",
      "Model saved at c:\\Datalogi\\Bachelor\\XAI-in-Medical-Image-Analysis\\src\\models\\medical_models\\saved_models\\MedicalCombinedResNetModel_18_7095_height_384_epoch_2_val_7.83_r2_7.83.pth\n",
      "Epoch 3/150, Train Loss: 7.957930961170712, Val Loss: 10.158446635518755, R^2 Score: -0.12929463386535645\n",
      "Epoch 4/150, Train Loss: 7.806952466835847, Val Loss: 7.9396070923124045, R^2 Score: 0.12114346027374268\n",
      "Epoch 5/150, Train Loss: 7.622489802472226, Val Loss: 7.760336084025247, R^2 Score: 0.13842356204986572\n",
      "Model saved at c:\\Datalogi\\Bachelor\\XAI-in-Medical-Image-Analysis\\src\\models\\medical_models\\saved_models\\MedicalCombinedResNetModel_18_7095_height_384_epoch_5_val_7.76_r2_7.76.pth\n",
      "Epoch 6/150, Train Loss: 7.561342281264228, Val Loss: 8.35490723167147, R^2 Score: 0.07279258966445923\n",
      "Epoch 7/150, Train Loss: 7.256949708268449, Val Loss: 7.877536586352757, R^2 Score: 0.12610399723052979\n",
      "Epoch 8/150, Train Loss: 7.046153824608605, Val Loss: 8.654431172779628, R^2 Score: 0.040464043617248535\n",
      "Epoch 9/150, Train Loss: 7.032359712832683, Val Loss: 7.495371665273394, R^2 Score: 0.16791397333145142\n",
      "Model saved at c:\\Datalogi\\Bachelor\\XAI-in-Medical-Image-Analysis\\src\\models\\medical_models\\saved_models\\MedicalCombinedResNetModel_18_7095_height_384_epoch_9_val_7.5_r2_7.5.pth\n",
      "Epoch 10/150, Train Loss: 6.581799129108051, Val Loss: 8.467515468597412, R^2 Score: 0.06185883283615112\n",
      "Epoch 11/150, Train Loss: 6.308646038845852, Val Loss: 9.86814798627581, R^2 Score: -0.09440231323242188\n",
      "Epoch 12/150, Train Loss: 5.83775638030456, Val Loss: 8.144926530974251, R^2 Score: 0.09642326831817627\n",
      "Epoch 13/150, Train Loss: 5.073946784745465, Val Loss: 9.10940170288086, R^2 Score: -0.010580062866210938\n",
      "Epoch 14/150, Train Loss: 4.232288634454882, Val Loss: 8.396687132971627, R^2 Score: 0.06621229648590088\n",
      "Epoch 15/150, Train Loss: 3.029232294172854, Val Loss: 11.834424104009356, R^2 Score: -0.31163859367370605\n",
      "Epoch 16/150, Train Loss: 2.281958951874896, Val Loss: 9.044822905744825, R^2 Score: -0.0033555030822753906\n",
      "Epoch 17/150, Train Loss: 1.8761819474868946, Val Loss: 8.78551982130323, R^2 Score: 0.022646605968475342\n",
      "Epoch 18/150, Train Loss: 1.500511321801323, Val Loss: 8.141604372433253, R^2 Score: 0.09636104106903076\n",
      "Epoch 19/150, Train Loss: 1.2573737182595708, Val Loss: 8.334269668374743, R^2 Score: 0.07532161474227905\n",
      "Epoch 20/150, Train Loss: 1.1609038213888805, Val Loss: 8.80778179849897, R^2 Score: 0.021881401538848877\n",
      "Epoch 21/150, Train Loss: 1.1360080463660729, Val Loss: 8.44482182604926, R^2 Score: 0.06160956621170044\n",
      "Epoch 22/150, Train Loss: 1.190051920107893, Val Loss: 8.229135240827288, R^2 Score: 0.08572924137115479\n",
      "Epoch 23/150, Train Loss: 1.104906770425874, Val Loss: 8.41658273765019, R^2 Score: 0.06571751832962036\n",
      "Epoch 24/150, Train Loss: 1.0074802037026431, Val Loss: 8.523552766868047, R^2 Score: 0.05421525239944458\n",
      "Epoch 25/150, Train Loss: 1.0689515702359311, Val Loss: 8.482993807111468, R^2 Score: 0.057826995849609375\n",
      "Epoch 26/150, Train Loss: 1.0719456357193422, Val Loss: 8.15097748381751, R^2 Score: 0.09469234943389893\n",
      "Epoch 27/150, Train Loss: 0.989100376899178, Val Loss: 8.91961784022195, R^2 Score: 0.011302292346954346\n",
      "Epoch 28/150, Train Loss: 0.9840501691844012, Val Loss: 8.461929610797338, R^2 Score: 0.05980253219604492\n",
      "Epoch 29/150, Train Loss: 0.9364911009733742, Val Loss: 8.36742948634284, R^2 Score: 0.07131695747375488\n",
      "Epoch 30/150, Train Loss: 0.9633597826904005, Val Loss: 8.43890676328114, R^2 Score: 0.0634082555770874\n",
      "Epoch 31/150, Train Loss: 0.9930025138430767, Val Loss: 8.01271026475089, R^2 Score: 0.11159777641296387\n",
      "Epoch 32/150, Train Loss: 0.8662443246927347, Val Loss: 8.021107631070274, R^2 Score: 0.11060488224029541\n",
      "Epoch 33/150, Train Loss: 0.8709236391492792, Val Loss: 8.458559683391027, R^2 Score: 0.06154990196228027\n",
      "Epoch 34/150, Train Loss: 0.8602178929088352, Val Loss: 8.153148293495178, R^2 Score: 0.09486055374145508\n",
      "Epoch 35/150, Train Loss: 0.790897225071718, Val Loss: 8.501070610114507, R^2 Score: 0.055655837059020996\n",
      "Epoch 36/150, Train Loss: 0.906639378484305, Val Loss: 8.291045563561577, R^2 Score: 0.07970643043518066\n",
      "Epoch 37/150, Train Loss: 0.8464122015882183, Val Loss: 8.483283655984062, R^2 Score: 0.05849391222000122\n",
      "Epoch 38/150, Train Loss: 0.8155616804420411, Val Loss: 8.212085647242409, R^2 Score: 0.08894127607345581\n",
      "Epoch 39/150, Train Loss: 0.827045409193447, Val Loss: 8.218936817986625, R^2 Score: 0.08783102035522461\n",
      "Epoch 40/150, Train Loss: 0.8032610178799242, Val Loss: 8.179460525512695, R^2 Score: 0.09188783168792725\n",
      "Epoch 41/150, Train Loss: 0.7547232927502813, Val Loss: 8.243231330599103, R^2 Score: 0.08404529094696045\n",
      "Epoch 42/150, Train Loss: 0.7325635384600442, Val Loss: 8.071864213262286, R^2 Score: 0.1052350401878357\n",
      "Epoch 43/150, Train Loss: 0.7188218938740524, Val Loss: 8.451463861124855, R^2 Score: 0.062245726585388184\n",
      "Epoch 44/150, Train Loss: 0.7639891671704816, Val Loss: 8.170275977679662, R^2 Score: 0.09271466732025146\n",
      "Epoch 45/150, Train Loss: 0.7505385877044352, Val Loss: 8.278827548027039, R^2 Score: 0.08140039443969727\n",
      "Epoch 46/150, Train Loss: 0.6989071920916841, Val Loss: 8.43905428477696, R^2 Score: 0.06324535608291626\n",
      "Epoch 47/150, Train Loss: 0.6812167452262329, Val Loss: 8.179422208241053, R^2 Score: 0.0932927131652832\n",
      "Epoch 48/150, Train Loss: 0.6263790351447759, Val Loss: 8.578300842217036, R^2 Score: 0.04843711853027344\n",
      "Epoch 49/150, Train Loss: 0.6400333179144172, Val Loss: 8.219539616789136, R^2 Score: 0.0884857177734375\n",
      "Epoch 50/150, Train Loss: 0.6125042207606204, Val Loss: 9.068732857704163, R^2 Score: -0.006136655807495117\n",
      "Epoch 51/150, Train Loss: 0.5846299623718133, Val Loss: 8.21605281318937, R^2 Score: 0.0886925458908081\n",
      "Epoch 52/150, Train Loss: 0.5559556832587397, Val Loss: 8.298000650746483, R^2 Score: 0.07931685447692871\n",
      "Epoch 53/150, Train Loss: 0.6385787197195731, Val Loss: 8.248623992715563, R^2 Score: 0.08556956052780151\n",
      "Epoch 54/150, Train Loss: 0.6015287934391348, Val Loss: 7.919327974319458, R^2 Score: 0.12223142385482788\n",
      "Epoch 55/150, Train Loss: 0.5315119769793373, Val Loss: 8.124208058629717, R^2 Score: 0.09966224431991577\n",
      "Epoch 56/150, Train Loss: 0.592266847018723, Val Loss: 8.057104647159576, R^2 Score: 0.10630834102630615\n",
      "Epoch 57/150, Train Loss: 0.5642632009746792, Val Loss: 8.286381942885262, R^2 Score: 0.0803939700126648\n",
      "Epoch 58/150, Train Loss: 0.5427223799733428, Val Loss: 7.936744775090899, R^2 Score: 0.11885082721710205\n",
      "Epoch 59/150, Train Loss: 0.5040543523054939, Val Loss: 8.128500410488673, R^2 Score: 0.09796655178070068\n",
      "Epoch 60/150, Train Loss: 0.44252581867548796, Val Loss: 8.35585846219744, R^2 Score: 0.07187801599502563\n",
      "Epoch 61/150, Train Loss: 0.4617812377778259, Val Loss: 8.316466280392238, R^2 Score: 0.07684040069580078\n",
      "Epoch 62/150, Train Loss: 0.4435105242237851, Val Loss: 8.01095448221479, R^2 Score: 0.11191171407699585\n",
      "Epoch 63/150, Train Loss: 0.44557918950512604, Val Loss: 8.186063374791827, R^2 Score: 0.09099733829498291\n",
      "Epoch 64/150, Train Loss: 0.48696320242172964, Val Loss: 8.29947635957173, R^2 Score: 0.07847517728805542\n",
      "Epoch 65/150, Train Loss: 0.45207271402752075, Val Loss: 8.443282391343798, R^2 Score: 0.06274694204330444\n",
      "Epoch 66/150, Train Loss: 0.461478696548724, Val Loss: 8.393452644348145, R^2 Score: 0.06724441051483154\n",
      "Epoch 67/150, Train Loss: 0.39132552906065377, Val Loss: 8.289046687739235, R^2 Score: 0.08040976524353027\n",
      "Epoch 68/150, Train Loss: 0.393008669687284, Val Loss: 8.279356360435486, R^2 Score: 0.08100825548171997\n",
      "Epoch 69/150, Train Loss: 0.35719733900046563, Val Loss: 8.36848759651184, R^2 Score: 0.07090020179748535\n",
      "Epoch 70/150, Train Loss: 0.3997080653301767, Val Loss: 8.654208949634008, R^2 Score: 0.038806140422821045\n",
      "Epoch 71/150, Train Loss: 0.38167935911868067, Val Loss: 8.189129778317042, R^2 Score: 0.09185540676116943\n",
      "Epoch 72/150, Train Loss: 0.41114617729777686, Val Loss: 8.162523354802813, R^2 Score: 0.0935356616973877\n",
      "Epoch 73/150, Train Loss: 0.36116786609898816, Val Loss: 8.185915776661464, R^2 Score: 0.0914069414138794\n",
      "Epoch 74/150, Train Loss: 0.3355073747267057, Val Loss: 8.448570728302002, R^2 Score: 0.06273508071899414\n",
      "Epoch 75/150, Train Loss: 0.3661954955676118, Val Loss: 8.075067860739571, R^2 Score: 0.10346919298171997\n",
      "Epoch 76/150, Train Loss: 0.3127673418672235, Val Loss: 8.165339393275124, R^2 Score: 0.09396296739578247\n",
      "Epoch 77/150, Train Loss: 0.32815418268243474, Val Loss: 8.13794778074537, R^2 Score: 0.09568977355957031\n",
      "Epoch 78/150, Train Loss: 0.3282631219171726, Val Loss: 8.103618511131831, R^2 Score: 0.10025399923324585\n",
      "Epoch 79/150, Train Loss: 0.34305888474793045, Val Loss: 8.121806195804051, R^2 Score: 0.09808218479156494\n",
      "Epoch 80/150, Train Loss: 0.3177011233527918, Val Loss: 8.200228776250567, R^2 Score: 0.08933210372924805\n",
      "Epoch 81/150, Train Loss: 0.3417007955009336, Val Loss: 8.217874254499163, R^2 Score: 0.08832502365112305\n",
      "Epoch 82/150, Train Loss: 0.3287103637918696, Val Loss: 8.652343715940203, R^2 Score: 0.03919285535812378\n",
      "Epoch 83/150, Train Loss: 0.3363396203027921, Val Loss: 8.180190001215253, R^2 Score: 0.0927920937538147\n",
      "Epoch 84/150, Train Loss: 0.3285595913258222, Val Loss: 8.195257536002568, R^2 Score: 0.0908808708190918\n",
      "Epoch 85/150, Train Loss: 0.27511494922208357, Val Loss: 8.327163423810687, R^2 Score: 0.07539248466491699\n",
      "Epoch 86/150, Train Loss: 0.29147348066305256, Val Loss: 8.044841706752777, R^2 Score: 0.10659664869308472\n",
      "Epoch 87/150, Train Loss: 0.23689518182597183, Val Loss: 8.09628998381751, R^2 Score: 0.10184001922607422\n",
      "Epoch 88/150, Train Loss: 0.22312680860091974, Val Loss: 8.414507831845965, R^2 Score: 0.06569242477416992\n",
      "Epoch 89/150, Train Loss: 0.23908691970748944, Val Loss: 8.321605035236903, R^2 Score: 0.07617980241775513\n",
      "Epoch 90/150, Train Loss: 0.3015158089498679, Val Loss: 8.928714334964752, R^2 Score: 0.009518027305603027\n",
      "Epoch 91/150, Train Loss: 0.3048659242555365, Val Loss: 8.571906924247742, R^2 Score: 0.047927260398864746\n",
      "Epoch 92/150, Train Loss: 0.28549373804314715, Val Loss: 8.776590543133873, R^2 Score: 0.02510887384414673\n",
      "Epoch 93/150, Train Loss: 0.30709543844332565, Val Loss: 8.50101499046598, R^2 Score: 0.057968974113464355\n",
      "Epoch 94/150, Train Loss: 0.2508244580916456, Val Loss: 8.640082206044879, R^2 Score: 0.04032087326049805\n",
      "Epoch 95/150, Train Loss: 0.24901765856791186, Val Loss: 8.47702409539904, R^2 Score: 0.05970257520675659\n",
      "Epoch 96/150, Train Loss: 0.28377531911875753, Val Loss: 8.270045382635933, R^2 Score: 0.08318257331848145\n",
      "Epoch 97/150, Train Loss: 0.2612978403565583, Val Loss: 8.475970770631518, R^2 Score: 0.06007951498031616\n",
      "Epoch 98/150, Train Loss: 0.234376460313797, Val Loss: 8.516961778913226, R^2 Score: 0.054077327251434326\n",
      "Epoch 99/150, Train Loss: 0.2216961799978136, Val Loss: 8.505006168569837, R^2 Score: 0.057073891162872314\n",
      "Epoch 100/150, Train Loss: 0.23485583879120714, Val Loss: 8.423185433660235, R^2 Score: 0.06514930725097656\n",
      "Epoch 101/150, Train Loss: 0.24959878754374143, Val Loss: 8.436340289456504, R^2 Score: 0.0647156834602356\n",
      "Epoch 102/150, Train Loss: 0.27006297816967106, Val Loss: 8.664974008287702, R^2 Score: 0.03798764944076538\n",
      "Epoch 103/150, Train Loss: 0.2702188965369452, Val Loss: 8.425700656005315, R^2 Score: 0.0651511549949646\n",
      "Epoch 104/150, Train Loss: 0.2765787325061119, Val Loss: 8.279911518096924, R^2 Score: 0.08207744359970093\n",
      "Epoch 105/150, Train Loss: 0.2381103776798055, Val Loss: 8.29596449647631, R^2 Score: 0.08027112483978271\n",
      "Epoch 106/150, Train Loss: 0.24029879181368932, Val Loss: 8.380649481500898, R^2 Score: 0.06989103555679321\n",
      "Epoch 107/150, Train Loss: 0.19162326262475135, Val Loss: 8.296361105782646, R^2 Score: 0.07885885238647461\n",
      "Epoch 108/150, Train Loss: 0.20764686435729535, Val Loss: 8.39045752797808, R^2 Score: 0.06963425874710083\n",
      "Epoch 109/150, Train Loss: 0.21540994517639414, Val Loss: 8.400070147854942, R^2 Score: 0.06768089532852173\n",
      "Epoch 110/150, Train Loss: 0.20926880604914716, Val Loss: 8.384596186024803, R^2 Score: 0.06976783275604248\n",
      "Epoch 111/150, Train Loss: 0.1933190850121481, Val Loss: 8.674274734088353, R^2 Score: 0.03883659839630127\n",
      "Epoch 112/150, Train Loss: 0.19916560703905317, Val Loss: 8.248361783368248, R^2 Score: 0.08534884452819824\n",
      "Epoch 113/150, Train Loss: 0.24175925187028205, Val Loss: 8.869070853505816, R^2 Score: 0.016979575157165527\n",
      "Epoch 114/150, Train Loss: 0.264851336644308, Val Loss: 8.941276158605303, R^2 Score: 0.009747743606567383\n",
      "Epoch 115/150, Train Loss: 0.2907278920012014, Val Loss: 8.56072334732328, R^2 Score: 0.04944503307342529\n",
      "Epoch 116/150, Train Loss: 0.2460188161044776, Val Loss: 8.554993322917394, R^2 Score: 0.050715744495391846\n",
      "Epoch 117/150, Train Loss: 0.20819291599967457, Val Loss: 8.493315841470446, R^2 Score: 0.05783581733703613\n",
      "Epoch 118/150, Train Loss: 0.18758645447323452, Val Loss: 8.75589279617582, R^2 Score: 0.02848672866821289\n",
      "Epoch 119/150, Train Loss: 0.18314737423851685, Val Loss: 8.329687442098345, R^2 Score: 0.07570427656173706\n",
      "Epoch 120/150, Train Loss: 0.16236322227160674, Val Loss: 8.375995653016227, R^2 Score: 0.06984966993331909\n",
      "Epoch 121/150, Train Loss: 0.1756106770958181, Val Loss: 8.262074725968498, R^2 Score: 0.08340293169021606\n",
      "Epoch 122/150, Train Loss: 0.1859266033714956, Val Loss: 8.346933203084129, R^2 Score: 0.07464665174484253\n",
      "Epoch 123/150, Train Loss: 0.19165333169134888, Val Loss: 8.484133064746857, R^2 Score: 0.059492290019989014\n",
      "Epoch 124/150, Train Loss: 0.23191310834508758, Val Loss: 8.64637759753636, R^2 Score: 0.04026055335998535\n",
      "Epoch 125/150, Train Loss: 0.2395256794989109, Val Loss: 8.447622171470098, R^2 Score: 0.061627745628356934\n",
      "Epoch 126/150, Train Loss: 0.25535470086175044, Val Loss: 8.545399631772723, R^2 Score: 0.05091613531112671\n",
      "Epoch 127/150, Train Loss: 0.2664112837330715, Val Loss: 8.665862951959882, R^2 Score: 0.03637266159057617\n",
      "Epoch 128/150, Train Loss: 0.23844919806799372, Val Loss: 8.573763029915947, R^2 Score: 0.04803389310836792\n",
      "Epoch 129/150, Train Loss: 0.17496277230816917, Val Loss: 9.012496403285436, R^2 Score: -0.00015676021575927734\n",
      "Epoch 130/150, Train Loss: 0.16907790905653355, Val Loss: 8.642915299960546, R^2 Score: 0.04145777225494385\n",
      "Epoch 131/150, Train Loss: 0.15770231316554117, Val Loss: 8.516839333942958, R^2 Score: 0.054540157318115234\n",
      "Epoch 132/150, Train Loss: 0.14055262960762055, Val Loss: 8.55893405846187, R^2 Score: 0.05008357763290405\n",
      "Epoch 133/150, Train Loss: 0.14044230874325778, Val Loss: 8.329305001667567, R^2 Score: 0.07616549730300903\n",
      "Epoch 134/150, Train Loss: 0.1581562419195433, Val Loss: 8.510833288942065, R^2 Score: 0.05553102493286133\n",
      "Epoch 135/150, Train Loss: 0.2032506355663409, Val Loss: 8.669022628239222, R^2 Score: 0.03747844696044922\n",
      "Epoch 136/150, Train Loss: 0.22483029733370016, Val Loss: 8.683095497744423, R^2 Score: 0.035854995250701904\n",
      "Epoch 137/150, Train Loss: 0.2845658996553571, Val Loss: 8.647593532289777, R^2 Score: 0.03934907913208008\n",
      "Epoch 138/150, Train Loss: 0.2823840678073801, Val Loss: 8.506962972027916, R^2 Score: 0.05617040395736694\n",
      "Epoch 139/150, Train Loss: 0.22993506900630556, Val Loss: 8.8667265857969, R^2 Score: 0.01599341630935669\n",
      "Epoch 140/150, Train Loss: 0.20056187384971627, Val Loss: 8.841137860502515, R^2 Score: 0.018988847732543945\n",
      "Epoch 141/150, Train Loss: 0.15280497705077264, Val Loss: 8.50011111157281, R^2 Score: 0.05699741840362549\n",
      "Epoch 142/150, Train Loss: 0.12619691481394274, Val Loss: 8.690835314137596, R^2 Score: 0.03635454177856445\n",
      "Epoch 143/150, Train Loss: 0.12216910590661002, Val Loss: 8.569348709923881, R^2 Score: 0.049516141414642334\n",
      "Epoch 144/150, Train Loss: 0.12907403888734612, Val Loss: 8.278939987931933, R^2 Score: 0.08103573322296143\n",
      "Epoch 145/150, Train Loss: 0.15481443696462358, Val Loss: 8.6770025236266, R^2 Score: 0.03877520561218262\n",
      "Epoch 146/150, Train Loss: 0.17856265866273158, Val Loss: 8.437539722238268, R^2 Score: 0.06408363580703735\n",
      "Epoch 147/150, Train Loss: 0.21030672109341836, Val Loss: 8.61402062007359, R^2 Score: 0.04397237300872803\n",
      "Epoch 148/150, Train Loss: 0.2388669222693991, Val Loss: 9.100688993930817, R^2 Score: -0.010127425193786621\n",
      "Epoch 149/150, Train Loss: 0.2581004470184043, Val Loss: 8.46933149439948, R^2 Score: 0.060773491859436035\n",
      "Epoch 150/150, Train Loss: 0.20997831007247572, Val Loss: 8.466625554221016, R^2 Score: 0.05942976474761963\n"
     ]
    }
   ],
   "source": [
    "combined_model.train()"
   ]
  }
 ],
 "metadata": {
  "kernelspec": {
   "display_name": "MLA",
   "language": "python",
   "name": "python3"
  },
  "language_info": {
   "codemirror_mode": {
    "name": "ipython",
    "version": 3
   },
   "file_extension": ".py",
   "mimetype": "text/x-python",
   "name": "python",
   "nbconvert_exporter": "python",
   "pygments_lexer": "ipython3",
   "version": "3.11.4"
  }
 },
 "nbformat": 4,
 "nbformat_minor": 2
}
