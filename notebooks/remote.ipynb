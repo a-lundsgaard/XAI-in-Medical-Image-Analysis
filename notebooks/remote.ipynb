{
 "cells": [
  {
   "cell_type": "code",
   "execution_count": 1,
   "metadata": {},
   "outputs": [],
   "source": [
    "import sys\n",
    "import os\n",
    "import importlib\n",
    "# make the module available from the src directory\n",
    "module_path = os.path.abspath(os.path.join('..'))\n",
    "if module_path not in sys.path:\n",
    "    sys.path.append(module_path)"
   ]
  },
  {
   "cell_type": "code",
   "execution_count": 2,
   "metadata": {},
   "outputs": [
    {
     "name": "stdout",
     "output_type": "stream",
     "text": [
      "is cuda available:  True\n",
      "Epoch 1/10, Train Loss: 14930.983453047904, Val Loss: 43790.37889685998\n",
      "Epoch 2/10, Train Loss: 926.1701114052221, Val Loss: 2587.527306189904\n",
      "Epoch 3/10, Train Loss: 771.0410758570621, Val Loss: 2096.6236713115986\n",
      "Epoch 4/10, Train Loss: 608.7724101417944, Val Loss: 1573.5888243455154\n",
      "Epoch 5/10, Train Loss: 395.5904188156128, Val Loss: 818.5337586036095\n",
      "Epoch 6/10, Train Loss: 353.11689085709423, Val Loss: 763.8171250269963\n",
      "Epoch 7/10, Train Loss: 298.1656156841077, Val Loss: 577.4396740840032\n",
      "Epoch 8/10, Train Loss: 184.06728337940416, Val Loss: 288.14886327890247\n",
      "Epoch 9/10, Train Loss: 195.83782868636283, Val Loss: 312.0590991973877\n",
      "Epoch 10/10, Train Loss: 174.60316231376245, Val Loss: 280.6319320385273\n",
      "Loss of the network on the test images: 29.60047149658203\n"
     ]
    }
   ],
   "source": [
    "from src.models.baseModels.resnet_regression import ResNetModel\n",
    "importlib.reload(sys.modules['src.models.baseModels.resnet_regression'])\n",
    "\n",
    "resnet = ResNetModel(data_dir='../datasets/artificial_data/SimpleNoisyCircleImageGenerator_images', num_epochs=10)\n",
    "resnet.load_data()\n",
    "resnet.train()\n",
    "resnet.evaluate()"
   ]
  }
 ],
 "metadata": {
  "kernelspec": {
   "display_name": "MLA",
   "language": "python",
   "name": "python3"
  },
  "language_info": {
   "codemirror_mode": {
    "name": "ipython",
    "version": 3
   },
   "file_extension": ".py",
   "mimetype": "text/x-python",
   "name": "python",
   "nbconvert_exporter": "python",
   "pygments_lexer": "ipython3",
   "version": "3.11.8"
  }
 },
 "nbformat": 4,
 "nbformat_minor": 2
}
