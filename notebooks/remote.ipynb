{
 "cells": [
  {
   "cell_type": "code",
   "execution_count": null,
   "metadata": {},
   "outputs": [],
   "source": [
    "from src.models.baseModels.resnet_regression import ResNetModel\n",
    "importlib.reload(sys.modules['src.models.baseModels.resnet_regression'])\n",
    "\n",
    "data_dir = '../datasets/artificial_data/'\n",
    "dataset_name = 'SimpleNoisyCircleImageGenerator'\n",
    "\n",
    "resnet = ResNetModel(\n",
    "    data_dir=f'{data_dir}{dataset_name}', \n",
    "    num_epochs=20,\n",
    "    learning_rate=0.01,\n",
    "    weight_decay=1e-5,\n",
    "    early_stopping_tol=3,\n",
    "    early_stopping_min_delta=10\n",
    ")\n",
    "\n",
    "\n",
    "resnet.load_data()\n",
    "resnet.train()\n",
    "resnet.evaluate()"
   ]
  },
  {
   "cell_type": "code",
   "execution_count": null,
   "metadata": {},
   "outputs": [],
   "source": [
    "from src.XAI.VanillaSaliency import VanillaSaliency\n",
    "importlib.reload(sys.modules['src.XAI.XAI'])\n",
    "\n",
    "# Assuming XAIResNet was already imported previously\n",
    "\n",
    "# Initialize XAI instance\n",
    "xai_resnet = VanillaSaliency(modelWrapper=resnet, device=resnet.device)\n",
    "xai_resnet.get_saliency_maps(image_count=20)"
   ]
  },
  {
   "cell_type": "code",
   "execution_count": null,
   "metadata": {},
   "outputs": [],
   "source": [
    "import sys\n",
    "import os\n",
    "import importlib\n",
    "# make the module available from the src directory\n",
    "module_path = os.path.abspath(os.path.join('..'))\n",
    "if module_path not in sys.path:\n",
    "    sys.path.append(module_path)"
   ]
  }
 ],
 "metadata": {
  "kernelspec": {
   "display_name": "MLA",
   "language": "python",
   "name": "python3"
  },
  "language_info": {
   "codemirror_mode": {
    "name": "ipython",
    "version": 3
   },
   "file_extension": ".py",
   "mimetype": "text/x-python",
   "name": "python",
   "nbconvert_exporter": "python",
   "pygments_lexer": "ipython3",
   "version": "3.11.4"
  }
 },
 "nbformat": 4,
 "nbformat_minor": 2
}
