{
 "cells": [
  {
   "cell_type": "code",
   "execution_count": 1,
   "metadata": {},
   "outputs": [],
   "source": [
    "import sys\n",
    "import importlib\n",
    "import os\n",
    "# make the module available from the src directory\n",
    "module_path = os.path.abspath(os.path.join('..'))\n",
    "if module_path not in sys.path:\n",
    "    sys.path.append(module_path)\n",
    "\n",
    "import numpy as np"
   ]
  },
  {
   "cell_type": "code",
   "execution_count": 2,
   "metadata": {},
   "outputs": [
    {
     "name": "stdout",
     "output_type": "stream",
     "text": [
      "Data shape: (384, 384, 160)\n"
     ]
    }
   ],
   "source": [
    "import nibabel as nib\n",
    "\n",
    "dataset = 'test4d.nii'\n",
    "data_dir = '../datasets/nifti/'\n",
    "\n",
    "# Load the NIfTI file\n",
    "nifti_image = nib.load(f\"{data_dir}{dataset}\")\n",
    "\n",
    "# Get the data from the file and print its shape\n",
    "data = nifti_image.get_fdata()\n",
    "print(\"Data shape:\", data.shape)"
   ]
  },
  {
   "cell_type": "code",
   "execution_count": 7,
   "metadata": {},
   "outputs": [
    {
     "name": "stdout",
     "output_type": "stream",
     "text": [
      "Data shape: (384, 384, 160)\n"
     ]
    },
    {
     "name": "stderr",
     "output_type": "stream",
     "text": [
      "/Users/askelundsgaard/opt/anaconda3/envs/MLA/lib/python3.11/site-packages/traittypes/traittypes.py:97: UserWarning: Given trait value dtype \"float32\" does not match required type \"float64\". A coerced copy has been created.\n",
      "  warnings.warn(\n"
     ]
    },
    {
     "data": {
      "application/vnd.jupyter.widget-view+json": {
       "model_id": "0e7acd3c03674b8a93154979ec84583b",
       "version_major": 2,
       "version_minor": 0
      },
      "text/plain": [
       "Container(children=[VBox(children=(HBox(children=(Label(value='levels:'), FloatSlider(value=0.25, max=1.0, ste…"
      ]
     },
     "metadata": {},
     "output_type": "display_data"
    }
   ],
   "source": [
    "import nibabel as nib\n",
    "import matplotlib.pyplot as plt\n",
    "\n",
    "# Display a single slice or iterate through slices\n",
    "def display_slice(slice_data):\n",
    "    plt.figure(figsize=(8, 8))\n",
    "    plt.imshow(slice_data, cmap='gray')\n",
    "    plt.axis('off')\n",
    "    plt.show()\n",
    "\n",
    "# Example: Display the middle axial slice\n",
    "middle_slice = data[:, :, data.shape[2] // 2]\n",
    "display_slice(middle_slice)"
   ]
  },
  {
   "cell_type": "code",
   "execution_count": 3,
   "metadata": {},
   "outputs": [
    {
     "name": "stderr",
     "output_type": "stream",
     "text": [
      "/Users/askelundsgaard/opt/anaconda3/envs/MLA/lib/python3.11/site-packages/traittypes/traittypes.py:97: UserWarning: Given trait value dtype \"float64\" does not match required type \"float64\". A coerced copy has been created.\n",
      "  warnings.warn(\n",
      "/Users/askelundsgaard/opt/anaconda3/envs/MLA/lib/python3.11/site-packages/ipyvolume/serialize.py:102: RuntimeWarning: invalid value encountered in cast\n",
      "  subdata[..., i] = ((gradient[i][zindex] / 2.0 + 0.5) * 255).astype(np.uint8)\n"
     ]
    },
    {
     "data": {
      "application/vnd.jupyter.widget-view+json": {
       "model_id": "bc62087c741d48508475cf9b4cc33a5b",
       "version_major": 2,
       "version_minor": 0
      },
      "text/plain": [
       "Container(children=[VBox(children=(HBox(children=(Label(value='levels:'), FloatSlider(value=0.25, max=1.0, ste…"
      ]
     },
     "metadata": {},
     "output_type": "display_data"
    }
   ],
   "source": [
    "# Create an interactive plot\n",
    "import ipyvolume as ipv\n",
    "\n",
    "ipv.figure()\n",
    "ipv.volshow(data, level=[0.25, 0.5, 0.75], opacity=[0.1, 0.1, 0.1], level_width=0.1, data_min=data.min(), data_max=data.max())\n",
    "ipv.show()"
   ]
  },
  {
   "cell_type": "code",
   "execution_count": 47,
   "metadata": {},
   "outputs": [
    {
     "data": {
      "text/plain": [
       "<module 'src.dataLoaders.NiftiDataLoader' from '/Users/askelundsgaard/Documents/datalogi/6-semester/Bachelor/XAI-in-Medical-Image-Analysis/src/dataLoaders/NiftiDataLoader.py'>"
      ]
     },
     "execution_count": 47,
     "metadata": {},
     "output_type": "execute_result"
    }
   ],
   "source": [
    "from src.dataLoaders.NiftiDataLoader import NiftiDataLoader\n",
    "importlib.reload(sys.modules['src.dataLoaders.NiftiDataLoader'])"
   ]
  },
  {
   "cell_type": "code",
   "execution_count": 48,
   "metadata": {},
   "outputs": [
    {
     "name": "stdout",
     "output_type": "stream",
     "text": [
      "Original Axial shape: (384, 160), Coronal shape: (384, 160), Sagittal shape: (384, 384)\n",
      "Resized Axial shape: (256, 256), Coronal shape: (256, 256), Sagittal shape: (256, 256)\n",
      "\n",
      "Multi-channel image shape: (3, 256, 256)\n",
      "Original Axial shape: (384, 160), Coronal shape: (384, 160), Sagittal shape: (384, 384)\n",
      "Resized Axial shape: (256, 256), Coronal shape: (256, 256), Sagittal shape: (256, 256)\n",
      "\n",
      "Multi-channel image shape: (3, 256, 256)\n",
      "Original Axial shape: (384, 160), Coronal shape: (384, 160), Sagittal shape: (384, 384)\n",
      "Resized Axial shape: (256, 256), Coronal shape: (256, 256), Sagittal shape: (256, 256)\n",
      "\n",
      "Multi-channel image shape: (3, 256, 256)\n",
      "Original Axial shape: (384, 160), Coronal shape: (384, 160), Sagittal shape: (384, 384)\n",
      "Resized Axial shape: (256, 256), Coronal shape: (256, 256), Sagittal shape: (256, 256)\n",
      "\n",
      "Multi-channel image shape: (3, 256, 256)\n",
      "Original Axial shape: (384, 160), Coronal shape: (384, 160), Sagittal shape: (384, 384)\n",
      "Resized Axial shape: (256, 256), Coronal shape: (256, 256), Sagittal shape: (256, 256)\n",
      "\n",
      "Multi-channel image shape: (3, 256, 256)\n",
      "Original Axial shape: (384, 160), Coronal shape: (384, 160), Sagittal shape: (384, 384)\n",
      "Resized Axial shape: (256, 256), Coronal shape: (256, 256), Sagittal shape: (256, 256)\n",
      "\n",
      "Multi-channel image shape: (3, 256, 256)\n",
      "Original Axial shape: (384, 160), Coronal shape: (384, 160), Sagittal shape: (384, 384)\n",
      "Resized Axial shape: (256, 256), Coronal shape: (256, 256), Sagittal shape: (256, 256)\n",
      "\n",
      "Multi-channel image shape: (3, 256, 256)\n",
      "Original Axial shape: (384, 160), Coronal shape: (384, 160), Sagittal shape: (384, 384)\n",
      "Resized Axial shape: (256, 256), Coronal shape: (256, 256), Sagittal shape: (256, 256)\n",
      "\n",
      "Multi-channel image shape: (3, 256, 256)\n",
      "Original Axial shape: (384, 160), Coronal shape: (384, 160), Sagittal shape: (384, 384)\n",
      "Resized Axial shape: (256, 256), Coronal shape: (256, 256), Sagittal shape: (256, 256)\n",
      "\n",
      "Multi-channel image shape: (3, 256, 256)\n",
      "Original Axial shape: (384, 160), Coronal shape: (384, 160), Sagittal shape: (384, 384)\n",
      "Resized Axial shape: (256, 256), Coronal shape: (256, 256), Sagittal shape: (256, 256)\n",
      "\n",
      "Multi-channel image shape: (3, 256, 256)\n",
      "Original Axial shape: (384, 160), Coronal shape: (384, 160), Sagittal shape: (384, 384)\n",
      "Resized Axial shape: (256, 256), Coronal shape: (256, 256), Sagittal shape: (256, 256)\n",
      "\n",
      "Multi-channel image shape: (3, 256, 256)\n",
      "Original Axial shape: (384, 160), Coronal shape: (384, 160), Sagittal shape: (384, 384)\n",
      "Resized Axial shape: (256, 256), Coronal shape: (256, 256), Sagittal shape: (256, 256)\n",
      "\n",
      "Multi-channel image shape: (3, 256, 256)\n",
      "Original Axial shape: (384, 160), Coronal shape: (384, 160), Sagittal shape: (384, 384)\n",
      "Resized Axial shape: (256, 256), Coronal shape: (256, 256), Sagittal shape: (256, 256)\n",
      "\n",
      "Multi-channel image shape: (3, 256, 256)\n",
      "Original Axial shape: (384, 160), Coronal shape: (384, 160), Sagittal shape: (384, 384)\n",
      "Resized Axial shape: (256, 256), Coronal shape: (256, 256), Sagittal shape: (256, 256)\n",
      "\n",
      "Multi-channel image shape: (3, 256, 256)\n",
      "Original Axial shape: (384, 160), Coronal shape: (384, 160), Sagittal shape: (384, 384)\n",
      "Resized Axial shape: (256, 256), Coronal shape: (256, 256), Sagittal shape: (256, 256)\n",
      "\n",
      "Multi-channel image shape: (3, 256, 256)\n",
      "Original Axial shape: (384, 160), Coronal shape: (384, 160), Sagittal shape: (384, 384)\n",
      "Resized Axial shape: (256, 256), Coronal shape: (256, 256), Sagittal shape: (256, 256)\n",
      "\n",
      "Multi-channel image shape: (3, 256, 256)\n",
      "Original Axial shape: (384, 160), Coronal shape: (384, 160), Sagittal shape: (384, 384)\n",
      "Resized Axial shape: (256, 256), Coronal shape: (256, 256), Sagittal shape: (256, 256)\n",
      "\n",
      "Multi-channel image shape: (3, 256, 256)\n"
     ]
    }
   ],
   "source": [
    "dataset = 'nifti'\n",
    "data_dir = '../datasets/'\n",
    "\n",
    "data_loader = NiftiDataLoader(data_dir=f'{data_dir}{dataset}', image_size=(384, 384, 160))\n",
    "data_loader.load_data()"
   ]
  }
 ],
 "metadata": {
  "kernelspec": {
   "display_name": "MLA",
   "language": "python",
   "name": "python3"
  },
  "language_info": {
   "codemirror_mode": {
    "name": "ipython",
    "version": 3
   },
   "file_extension": ".py",
   "mimetype": "text/x-python",
   "name": "python",
   "nbconvert_exporter": "python",
   "pygments_lexer": "ipython3",
   "version": "3.11.4"
  }
 },
 "nbformat": 4,
 "nbformat_minor": 2
}
