{
 "cells": [
  {
   "cell_type": "code",
   "execution_count": 1,
   "metadata": {},
   "outputs": [],
   "source": [
    "import sys\n",
    "import importlib\n",
    "import os\n",
    "# make the module available from the src directory\n",
    "module_path = os.path.abspath(os.path.join('..'))\n",
    "if module_path not in sys.path:\n",
    "    sys.path.append(module_path)"
   ]
  },
  {
   "cell_type": "code",
   "execution_count": 2,
   "metadata": {},
   "outputs": [
    {
     "name": "stdout",
     "output_type": "stream",
     "text": [
      "[{'image': '../datasets/artificial_data/3d_shapes/volume_40_label_15.pt', 'label': {'size': 15}}, {'image': '../datasets/artificial_data/3d_shapes/volume_0_label_29.pt', 'label': {'size': 29}}, {'image': '../datasets/artificial_data/3d_shapes/volume_10_label_26.pt', 'label': {'size': 26}}, {'image': '../datasets/artificial_data/3d_shapes/volume_15_label_13.pt', 'label': {'size': 13}}, {'image': '../datasets/artificial_data/3d_shapes/volume_39_label_15.pt', 'label': {'size': 15}}, {'image': '../datasets/artificial_data/3d_shapes/volume_37_label_16.pt', 'label': {'size': 16}}, {'image': '../datasets/artificial_data/3d_shapes/volume_38_label_18.pt', 'label': {'size': 18}}, {'image': '../datasets/artificial_data/3d_shapes/volume_6_label_17.pt', 'label': {'size': 17}}, {'image': '../datasets/artificial_data/3d_shapes/volume_9_label_18.pt', 'label': {'size': 18}}, {'image': '../datasets/artificial_data/3d_shapes/volume_32_label_22.pt', 'label': {'size': 22}}, {'image': '../datasets/artificial_data/3d_shapes/volume_29_label_11.pt', 'label': {'size': 11}}, {'image': '../datasets/artificial_data/3d_shapes/volume_20_label_21.pt', 'label': {'size': 21}}, {'image': '../datasets/artificial_data/3d_shapes/volume_42_label_26.pt', 'label': {'size': 26}}, {'image': '../datasets/artificial_data/3d_shapes/volume_1_label_21.pt', 'label': {'size': 21}}, {'image': '../datasets/artificial_data/3d_shapes/volume_21_label_17.pt', 'label': {'size': 17}}, {'image': '../datasets/artificial_data/3d_shapes/volume_34_label_27.pt', 'label': {'size': 27}}, {'image': '../datasets/artificial_data/3d_shapes/volume_3_label_18.pt', 'label': {'size': 18}}, {'image': '../datasets/artificial_data/3d_shapes/volume_48_label_16.pt', 'label': {'size': 16}}, {'image': '../datasets/artificial_data/3d_shapes/volume_28_label_17.pt', 'label': {'size': 17}}, {'image': '../datasets/artificial_data/3d_shapes/volume_18_label_11.pt', 'label': {'size': 11}}, {'image': '../datasets/artificial_data/3d_shapes/volume_27_label_18.pt', 'label': {'size': 18}}, {'image': '../datasets/artificial_data/3d_shapes/volume_14_label_21.pt', 'label': {'size': 21}}, {'image': '../datasets/artificial_data/3d_shapes/volume_44_label_26.pt', 'label': {'size': 26}}, {'image': '../datasets/artificial_data/3d_shapes/volume_31_label_27.pt', 'label': {'size': 27}}, {'image': '../datasets/artificial_data/3d_shapes/volume_24_label_24.pt', 'label': {'size': 24}}, {'image': '../datasets/artificial_data/3d_shapes/volume_5_label_14.pt', 'label': {'size': 14}}, {'image': '../datasets/artificial_data/3d_shapes/volume_8_label_28.pt', 'label': {'size': 28}}, {'image': '../datasets/artificial_data/3d_shapes/volume_13_label_25.pt', 'label': {'size': 25}}, {'image': '../datasets/artificial_data/3d_shapes/volume_12_label_18.pt', 'label': {'size': 18}}, {'image': '../datasets/artificial_data/3d_shapes/volume_41_label_24.pt', 'label': {'size': 24}}, {'image': '../datasets/artificial_data/3d_shapes/volume_49_label_18.pt', 'label': {'size': 18}}, {'image': '../datasets/artificial_data/3d_shapes/volume_7_label_17.pt', 'label': {'size': 17}}, {'image': '../datasets/artificial_data/3d_shapes/volume_33_label_23.pt', 'label': {'size': 23}}, {'image': '../datasets/artificial_data/3d_shapes/volume_16_label_11.pt', 'label': {'size': 11}}, {'image': '../datasets/artificial_data/3d_shapes/volume_26_label_28.pt', 'label': {'size': 28}}, {'image': '../datasets/artificial_data/3d_shapes/volume_19_label_20.pt', 'label': {'size': 20}}, {'image': '../datasets/artificial_data/3d_shapes/volume_45_label_12.pt', 'label': {'size': 12}}, {'image': '../datasets/artificial_data/3d_shapes/volume_4_label_13.pt', 'label': {'size': 13}}, {'image': '../datasets/artificial_data/3d_shapes/volume_2_label_29.pt', 'label': {'size': 29}}, {'image': '../datasets/artificial_data/3d_shapes/volume_46_label_29.pt', 'label': {'size': 29}}, {'image': '../datasets/artificial_data/3d_shapes/volume_43_label_28.pt', 'label': {'size': 28}}, {'image': '../datasets/artificial_data/3d_shapes/volume_17_label_26.pt', 'label': {'size': 26}}, {'image': '../datasets/artificial_data/3d_shapes/volume_35_label_23.pt', 'label': {'size': 23}}, {'image': '../datasets/artificial_data/3d_shapes/volume_22_label_15.pt', 'label': {'size': 15}}, {'image': '../datasets/artificial_data/3d_shapes/volume_25_label_26.pt', 'label': {'size': 26}}, {'image': '../datasets/artificial_data/3d_shapes/volume_11_label_18.pt', 'label': {'size': 18}}, {'image': '../datasets/artificial_data/3d_shapes/volume_30_label_26.pt', 'label': {'size': 26}}, {'image': '../datasets/artificial_data/3d_shapes/volume_47_label_21.pt', 'label': {'size': 21}}, {'image': '../datasets/artificial_data/3d_shapes/volume_23_label_28.pt', 'label': {'size': 28}}, {'image': '../datasets/artificial_data/3d_shapes/volume_36_label_18.pt', 'label': {'size': 18}}]\n"
     ]
    }
   ],
   "source": [
    "data_dir = \"../datasets/artificial_data/3d_shapes\"\n",
    "\n",
    "def create_list():\n",
    "    pairs = []\n",
    "    all_files = os.listdir(data_dir)\n",
    "    for filename in all_files:\n",
    "        label = int(filename.split(\"_\").pop().replace(\".pt\", \"\"))\n",
    "        label_dict = { \"size\": label }\n",
    "        file_path = os.path.join(data_dir, filename)\n",
    "        pairs.append({\"image\": file_path, \"label\": label_dict})\n",
    "    return pairs\n",
    "\n",
    "pairs = create_list()\n",
    "print(pairs)"
   ]
  },
  {
   "cell_type": "code",
   "execution_count": 3,
   "metadata": {},
   "outputs": [
    {
     "name": "stderr",
     "output_type": "stream",
     "text": [
      "/Users/askelundsgaard/opt/anaconda3/envs/MLA/lib/python3.11/site-packages/torchvision/io/image.py:13: UserWarning: Failed to load image Python extension: 'dlopen(/Users/askelundsgaard/opt/anaconda3/envs/MLA/lib/python3.11/site-packages/torchvision/image.so, 0x0006): Symbol not found: __ZN3c1017RegisterOperatorsD1Ev\n",
      "  Referenced from: <E03EDA44-89AE-3115-9796-62BA9E0E2EDE> /Users/askelundsgaard/opt/anaconda3/envs/MLA/lib/python3.11/site-packages/torchvision/image.so\n",
      "  Expected in:     <D2077E4D-18BC-34B9-8A9B-1EF634A0F416> /Users/askelundsgaard/opt/anaconda3/envs/MLA/lib/python3.11/site-packages/torch/lib/libtorch_cpu.dylib'If you don't plan on using image functionality from `torchvision.io`, you can ignore this warning. Otherwise, there might be something wrong with your environment. Did you have `libjpeg` or `libpng` installed before building `torchvision` from source?\n",
      "  warn(\n"
     ]
    }
   ],
   "source": [
    "from src.transformers.TensorLoaderTransfomer import TensorLoader\n",
    "from monai.transforms import Compose, LoadImaged, EnsureChannelFirstD, ScaleIntensityd, ToTensord, ResizeD, Lambdad, NormalizeIntensityD\n",
    "\n",
    "from src.transformers.SliceTransformer import SliceAggregateTransform\n",
    "importlib.reload(sys.modules['src.transformers.SliceTransformer'])\n",
    "\n",
    "importlib.reload(sys.modules['src.transformers.TensorLoaderTransfomer'])\n",
    "transforms = [\n",
    "    TensorLoader(keys=[\"image\"]),\n",
    "    SliceAggregateTransform(keys=[\"image\"], slices=9),\n",
    "    ScaleIntensityd(keys=[\"image\"], minv=0.0, maxv=1.0, factor=1.0),\n",
    "    NormalizeIntensityD(keys=[\"image\"], nonzero=True, channel_wise=True),\n",
    "    ToTensord(keys=[\"image\"])\n",
    "    ]"
   ]
  },
  {
   "cell_type": "code",
   "execution_count": 4,
   "metadata": {},
   "outputs": [
    {
     "data": {
      "text/plain": [
       "<module 'src.dataLoaders.NiftiDataLoader2' from '/Users/mraabo/computer_science/year_3/bachelor/XAI-in-Medical-Image-Analysis/src/dataLoaders/NiftiDataLoader2.py'>"
      ]
     },
     "execution_count": 4,
     "metadata": {},
     "output_type": "execute_result"
    }
   ],
   "source": [
    "from src.dataLoaders.NiftiDataLoader2 import NiftiDataLoader\n",
    "importlib.reload(sys.modules['src.dataLoaders.NiftiDataLoader2'])"
   ]
  },
  {
   "cell_type": "code",
   "execution_count": 5,
   "metadata": {},
   "outputs": [
    {
     "name": "stdout",
     "output_type": "stream",
     "text": [
      "File /Users/mraabo/computer_science/year_3/bachelor/XAI-in-Medical-Image-Analysis/src/dataLoaders/saved_data_lists/data_list.pkl does not exist.\n",
      "Data list loaded: False\n",
      "Using custom sampler: False\n",
      "Subset size: 5000\n"
     ]
    },
    {
     "name": "stderr",
     "output_type": "stream",
     "text": [
      "Loading dataset: 100%|██████████| 3999/3999 [00:23<00:00, 169.39it/s]\n",
      "Loading dataset: 100%|██████████| 500/500 [00:02<00:00, 181.27it/s]\n",
      "Loading dataset: 100%|██████████| 500/500 [00:02<00:00, 176.54it/s]"
     ]
    },
    {
     "name": "stdout",
     "output_type": "stream",
     "text": [
      "batch_size: 32\n"
     ]
    },
    {
     "name": "stderr",
     "output_type": "stream",
     "text": [
      "\n"
     ]
    }
   ],
   "source": [
    "dataset = 'niftiShort'\n",
    "data_path = '../datasets/nifti/'\n",
    "data_dir = f'{data_path}{dataset}'\n",
    "\n",
    "# data_dir = 'C:/Users/askel/Downloads/NIFTY/NIFTY/'\n",
    "# max = 8876\n",
    "dim = 384\n",
    "data_loader = NiftiDataLoader(data_dir=data_dir, \n",
    "                              batch_size=32,\n",
    "                              spatial_resize=(dim, dim, dim),\n",
    "                              cache_rate=0.5, \n",
    "                              replace_rate=1,\n",
    "                              transforms=transforms,\n",
    "                              data_list=pairs,\n",
    "                              )\n",
    "# data_loader.load_data(visit_no=visit, subset_size=2058, cache=\"standard\")\n",
    "# data_loader.load_data(subset_size=84, cache=\"standard\")\n",
    "#data_loader.load_data(subset_size=4400, cache=\"standard\")\n",
    "# data_loader.load_data(subset_size=8875, cache=\"standard\")\n",
    "\n",
    "data_loader.load_data(cache=\"standard\")"
   ]
  },
  {
   "cell_type": "code",
   "execution_count": 6,
   "metadata": {},
   "outputs": [
    {
     "data": {
      "text/plain": [
       "<module 'src.models.medical_models.combined_medical' from '/Users/mraabo/computer_science/year_3/bachelor/XAI-in-Medical-Image-Analysis/src/models/medical_models/combined_medical.py'>"
      ]
     },
     "execution_count": 6,
     "metadata": {},
     "output_type": "execute_result"
    }
   ],
   "source": [
    "from src.models.medical_models.medical_resnet import MedicalResNetModel\n",
    "importlib.reload(sys.modules['src.models.medical_models.base_medical'])\n",
    "importlib.reload(sys.modules['src.models.medical_models.medical_resnet'])\n",
    "\n",
    "\n",
    "from src.models.medical_models.monai_resnet import MonaiMedicalResNet\n",
    "importlib.reload(sys.modules['src.models.medical_models.monai_resnet'])\n",
    "\n",
    "from src.models.medical_models.combined_medical import MedicalCombinedResNetModel\n",
    "importlib.reload(sys.modules['src.models.medical_models.combined_medical'])"
   ]
  },
  {
   "cell_type": "code",
   "execution_count": 7,
   "metadata": {},
   "outputs": [
    {
     "name": "stderr",
     "output_type": "stream",
     "text": [
      "/opt/miniconda3/envs/MLA/lib/python3.11/site-packages/torch/utils/data/_utils/worker.py:222: UserWarning: Cannot set number of intraop threads after parallel work has started or after set_num_threads call when using native parallel backend (Triggered internally at /Users/runner/work/_temp/anaconda/conda-bld/pytorch_1713301817286/work/aten/src/ATen/ParallelNative.cpp:228.)\n",
      "  torch.set_num_threads(1)\n"
     ]
    },
    {
     "name": "stdout",
     "output_type": "stream",
     "text": [
      "Data loader train loader:  125 3999\n",
      "Image spatial dimensions:  torch.Size([32, 9, 256, 256])\n",
      "Number of input channels:  9\n",
      "gpu:  mps:0\n",
      "Is cuda available:  False mps\n",
      "Number of training images: 3999\n",
      "Epoch 1/100, Train Loss: 17.738826201438904, Val Loss: 3.9357336163520813, R^2 Score: 0.8824087977409363\n"
     ]
    },
    {
     "ename": "KeyboardInterrupt",
     "evalue": "",
     "output_type": "error",
     "traceback": [
      "\u001b[0;31m---------------------------------------------------------------------------\u001b[0m",
      "\u001b[0;31mKeyboardInterrupt\u001b[0m                         Traceback (most recent call last)",
      "Cell \u001b[0;32mIn[7], line 11\u001b[0m\n\u001b[1;32m      1\u001b[0m fusion_model \u001b[38;5;241m=\u001b[39m MedicalCombinedResNetModel(\n\u001b[1;32m      2\u001b[0m     num_epochs\u001b[38;5;241m=\u001b[39m\u001b[38;5;241m100\u001b[39m,\n\u001b[1;32m      3\u001b[0m     learning_rate\u001b[38;5;241m=\u001b[39m\u001b[38;5;241m0.001\u001b[39m,\n\u001b[0;32m   (...)\u001b[0m\n\u001b[1;32m      8\u001b[0m     \u001b[38;5;66;03m#pretrained=False\u001b[39;00m\n\u001b[1;32m      9\u001b[0m )\n\u001b[0;32m---> 11\u001b[0m \u001b[43mfusion_model\u001b[49m\u001b[38;5;241;43m.\u001b[39;49m\u001b[43mtrain\u001b[49m\u001b[43m(\u001b[49m\u001b[43m)\u001b[49m\n\u001b[1;32m     12\u001b[0m fusion_model\u001b[38;5;241m.\u001b[39mevaluate()\n",
      "File \u001b[0;32m~/computer_science/year_3/bachelor/XAI-in-Medical-Image-Analysis/src/models/medical_models/base_medical.py:179\u001b[0m, in \u001b[0;36mMedicalResNetModelBase.train\u001b[0;34m(self)\u001b[0m\n\u001b[1;32m    177\u001b[0m \u001b[38;5;28;01mif\u001b[39;00m r2_score \u001b[38;5;241m>\u001b[39m best_r2_score:\n\u001b[1;32m    178\u001b[0m     best_r2_score \u001b[38;5;241m=\u001b[39m r2_score\n\u001b[0;32m--> 179\u001b[0m     \u001b[38;5;28;43mself\u001b[39;49m\u001b[38;5;241;43m.\u001b[39;49m\u001b[43msave_model\u001b[49m\u001b[43m(\u001b[49m\u001b[43mepoch\u001b[49m\u001b[43m \u001b[49m\u001b[38;5;241;43m+\u001b[39;49m\u001b[43m \u001b[49m\u001b[38;5;241;43m1\u001b[39;49m\u001b[43m,\u001b[49m\u001b[43m \u001b[49m\u001b[43mcurrent_val_loss\u001b[49m\u001b[43m,\u001b[49m\u001b[43m \u001b[49m\u001b[43mr2\u001b[49m\u001b[38;5;241;43m=\u001b[39;49m\u001b[43mbest_r2_score\u001b[49m\u001b[43m,\u001b[49m\u001b[43m \u001b[49m\u001b[43mis_best\u001b[49m\u001b[38;5;241;43m=\u001b[39;49m\u001b[38;5;28;43;01mFalse\u001b[39;49;00m\u001b[43m)\u001b[49m\n\u001b[1;32m    181\u001b[0m \u001b[38;5;66;03m# Save the best model\u001b[39;00m\n\u001b[1;32m    182\u001b[0m \u001b[38;5;28;01mif\u001b[39;00m current_val_loss \u001b[38;5;241m<\u001b[39m best_val_loss:\n",
      "File \u001b[0;32m~/computer_science/year_3/bachelor/XAI-in-Medical-Image-Analysis/src/models/medical_models/base_medical.py:229\u001b[0m, in \u001b[0;36mMedicalResNetModelBase.save_model\u001b[0;34m(self, epoch, val_loss, r2, is_best)\u001b[0m\n\u001b[1;32m    227\u001b[0m shape \u001b[38;5;241m=\u001b[39m \u001b[38;5;28mself\u001b[39m\u001b[38;5;241m.\u001b[39mimage_shape\n\u001b[1;32m    228\u001b[0m save_path \u001b[38;5;241m=\u001b[39m os\u001b[38;5;241m.\u001b[39mpath\u001b[38;5;241m.\u001b[39mjoin(\u001b[38;5;28mself\u001b[39m\u001b[38;5;241m.\u001b[39msave_dir, \u001b[38;5;124mf\u001b[39m\u001b[38;5;124m\"\u001b[39m\u001b[38;5;132;01m{\u001b[39;00m\u001b[38;5;28mself\u001b[39m\u001b[38;5;241m.\u001b[39m\u001b[38;5;18m__class__\u001b[39m\u001b[38;5;241m.\u001b[39m\u001b[38;5;18m__name__\u001b[39m\u001b[38;5;132;01m}\u001b[39;00m\u001b[38;5;124m_\u001b[39m\u001b[38;5;132;01m{\u001b[39;00m\u001b[38;5;28mself\u001b[39m\u001b[38;5;241m.\u001b[39mdepth\u001b[38;5;132;01m}\u001b[39;00m\u001b[38;5;124m_\u001b[39m\u001b[38;5;132;01m{\u001b[39;00m\u001b[38;5;28mlen\u001b[39m(\u001b[38;5;28mself\u001b[39m\u001b[38;5;241m.\u001b[39mdata_loader\u001b[38;5;241m.\u001b[39mtrain_ds)\u001b[38;5;132;01m}\u001b[39;00m\u001b[38;5;124m_height_\u001b[39m\u001b[38;5;132;01m{\u001b[39;00mshape\u001b[38;5;132;01m}\u001b[39;00m\u001b[38;5;124m_epoch_\u001b[39m\u001b[38;5;132;01m{\u001b[39;00mepoch\u001b[38;5;132;01m}\u001b[39;00m\u001b[38;5;124m_val_\u001b[39m\u001b[38;5;132;01m{\u001b[39;00m\u001b[38;5;28mround\u001b[39m(val_loss,\u001b[38;5;250m \u001b[39m\u001b[38;5;241m2\u001b[39m)\u001b[38;5;132;01m}\u001b[39;00m\u001b[38;5;124m_r2_\u001b[39m\u001b[38;5;132;01m{\u001b[39;00m\u001b[38;5;28mround\u001b[39m(r2,\u001b[38;5;250m \u001b[39m\u001b[38;5;241m2\u001b[39m)\u001b[38;5;132;01m}\u001b[39;00m\u001b[38;5;124m.pth\u001b[39m\u001b[38;5;124m\"\u001b[39m)\n\u001b[0;32m--> 229\u001b[0m \u001b[43mtorch\u001b[49m\u001b[38;5;241;43m.\u001b[39;49m\u001b[43msave\u001b[49m\u001b[43m(\u001b[49m\u001b[43mmodel_state\u001b[49m\u001b[43m,\u001b[49m\u001b[43m \u001b[49m\u001b[43msave_path\u001b[49m\u001b[43m)\u001b[49m\n\u001b[1;32m    230\u001b[0m \u001b[38;5;28mprint\u001b[39m(\u001b[38;5;124mf\u001b[39m\u001b[38;5;124m\"\u001b[39m\u001b[38;5;124mModel saved at \u001b[39m\u001b[38;5;132;01m{\u001b[39;00msave_path\u001b[38;5;132;01m}\u001b[39;00m\u001b[38;5;124m\"\u001b[39m)\n",
      "File \u001b[0;32m/opt/miniconda3/envs/MLA/lib/python3.11/site-packages/torch/serialization.py:628\u001b[0m, in \u001b[0;36msave\u001b[0;34m(obj, f, pickle_module, pickle_protocol, _use_new_zipfile_serialization, _disable_byteorder_record)\u001b[0m\n\u001b[1;32m    626\u001b[0m \u001b[38;5;28;01mif\u001b[39;00m _use_new_zipfile_serialization:\n\u001b[1;32m    627\u001b[0m     \u001b[38;5;28;01mwith\u001b[39;00m _open_zipfile_writer(f) \u001b[38;5;28;01mas\u001b[39;00m opened_zipfile:\n\u001b[0;32m--> 628\u001b[0m         \u001b[43m_save\u001b[49m\u001b[43m(\u001b[49m\u001b[43mobj\u001b[49m\u001b[43m,\u001b[49m\u001b[43m \u001b[49m\u001b[43mopened_zipfile\u001b[49m\u001b[43m,\u001b[49m\u001b[43m \u001b[49m\u001b[43mpickle_module\u001b[49m\u001b[43m,\u001b[49m\u001b[43m \u001b[49m\u001b[43mpickle_protocol\u001b[49m\u001b[43m,\u001b[49m\u001b[43m \u001b[49m\u001b[43m_disable_byteorder_record\u001b[49m\u001b[43m)\u001b[49m\n\u001b[1;32m    629\u001b[0m         \u001b[38;5;28;01mreturn\u001b[39;00m\n\u001b[1;32m    630\u001b[0m \u001b[38;5;28;01melse\u001b[39;00m:\n",
      "File \u001b[0;32m/opt/miniconda3/envs/MLA/lib/python3.11/site-packages/torch/serialization.py:862\u001b[0m, in \u001b[0;36m_save\u001b[0;34m(obj, zip_file, pickle_module, pickle_protocol, _disable_byteorder_record)\u001b[0m\n\u001b[1;32m    860\u001b[0m \u001b[38;5;66;03m# Now that it is on the CPU we can directly copy it into the zip file\u001b[39;00m\n\u001b[1;32m    861\u001b[0m num_bytes \u001b[38;5;241m=\u001b[39m storage\u001b[38;5;241m.\u001b[39mnbytes()\n\u001b[0;32m--> 862\u001b[0m \u001b[43mzip_file\u001b[49m\u001b[38;5;241;43m.\u001b[39;49m\u001b[43mwrite_record\u001b[49m\u001b[43m(\u001b[49m\u001b[43mname\u001b[49m\u001b[43m,\u001b[49m\u001b[43m \u001b[49m\u001b[43mstorage\u001b[49m\u001b[43m,\u001b[49m\u001b[43m \u001b[49m\u001b[43mnum_bytes\u001b[49m\u001b[43m)\u001b[49m\n",
      "\u001b[0;31mKeyboardInterrupt\u001b[0m: "
     ]
    }
   ],
   "source": [
    "fusion_model = MedicalCombinedResNetModel(\n",
    "    num_epochs=100,\n",
    "    learning_rate=0.001,\n",
    "    weight_decay=1e-4,\n",
    "    data_loader=data_loader,\n",
    "    dropout_rate=0.1,\n",
    "    depth=18\n",
    "    #pretrained=False\n",
    ")\n",
    "\n",
    "fusion_model.train()\n",
    "fusion_model.evaluate()"
   ]
  },
  {
   "cell_type": "code",
   "execution_count": 13,
   "metadata": {},
   "outputs": [
    {
     "name": "stdout",
     "output_type": "stream",
     "text": [
      "Data loader train loader:  125 3999\n",
      "Image spatial dimensions:  torch.Size([32, 9, 256, 256])\n",
      "Number of input channels:  9\n",
      "gpu:  mps:0\n",
      "Is cuda available:  False mps\n",
      "Number of training images: 3999\n",
      "Epoch 1/10, Train Loss: 42.742962085723875, Val Loss: 3.2245964854955673, R^2 Score: 0.9033299684524536\n",
      "Model saved at /Users/mraabo/computer_science/year_3/bachelor/XAI-in-Medical-Image-Analysis/src/models/medical_models/saved_models/MedicalResNetModel_18_3999_height_torch.Size([32, 9, 256, 256])_epoch_1_val_3.22_r2_0.9.pth\n",
      "Model saved at /Users/mraabo/computer_science/year_3/bachelor/XAI-in-Medical-Image-Analysis/src/models/medical_models/saved_models/MedicalResNetModel_18_3999_height_torch.Size([32, 9, 256, 256])_epoch_1_val_3.22_r2_0.9.pth\n",
      "Epoch 2/10, Train Loss: 4.141625546932221, Val Loss: 7.04875348508358, R^2 Score: 0.7901703119277954\n",
      "Epoch 3/10, Train Loss: 2.7520689334869384, Val Loss: 3.1852420419454575, R^2 Score: 0.904496431350708\n",
      "Model saved at /Users/mraabo/computer_science/year_3/bachelor/XAI-in-Medical-Image-Analysis/src/models/medical_models/saved_models/MedicalResNetModel_18_3999_height_torch.Size([32, 9, 256, 256])_epoch_3_val_3.19_r2_0.9.pth\n",
      "Model saved at /Users/mraabo/computer_science/year_3/bachelor/XAI-in-Medical-Image-Analysis/src/models/medical_models/saved_models/MedicalResNetModel_18_3999_height_torch.Size([32, 9, 256, 256])_epoch_3_val_3.19_r2_0.9.pth\n",
      "Epoch 4/10, Train Loss: 2.0407947452068327, Val Loss: 2.4649068638682365, R^2 Score: 0.9262500405311584\n",
      "Model saved at /Users/mraabo/computer_science/year_3/bachelor/XAI-in-Medical-Image-Analysis/src/models/medical_models/saved_models/MedicalResNetModel_18_3999_height_torch.Size([32, 9, 256, 256])_epoch_4_val_2.46_r2_0.93.pth\n",
      "Model saved at /Users/mraabo/computer_science/year_3/bachelor/XAI-in-Medical-Image-Analysis/src/models/medical_models/saved_models/MedicalResNetModel_18_3999_height_torch.Size([32, 9, 256, 256])_epoch_4_val_2.46_r2_0.93.pth\n",
      "Epoch 5/10, Train Loss: 1.5788128867149354, Val Loss: 1.2675845175981522, R^2 Score: 0.9624276757240295\n",
      "Model saved at /Users/mraabo/computer_science/year_3/bachelor/XAI-in-Medical-Image-Analysis/src/models/medical_models/saved_models/MedicalResNetModel_18_3999_height_torch.Size([32, 9, 256, 256])_epoch_5_val_1.27_r2_0.96.pth\n",
      "Model saved at /Users/mraabo/computer_science/year_3/bachelor/XAI-in-Medical-Image-Analysis/src/models/medical_models/saved_models/MedicalResNetModel_18_3999_height_torch.Size([32, 9, 256, 256])_epoch_5_val_1.27_r2_0.96.pth\n",
      "Epoch 6/10, Train Loss: 1.4134249949455262, Val Loss: 1.8881649747490883, R^2 Score: 0.9436008334159851\n",
      "Epoch 7/10, Train Loss: 1.4131299614906312, Val Loss: 1.448503240942955, R^2 Score: 0.9568390250205994\n",
      "Epoch 8/10, Train Loss: 1.100153112411499, Val Loss: 1.3786930590867996, R^2 Score: 0.9587215781211853\n",
      "Epoch 9/10, Train Loss: 1.3348765921592713, Val Loss: 3.8969911262392998, R^2 Score: 0.883821427822113\n",
      "Epoch 10/10, Train Loss: 1.1574740645885468, Val Loss: 2.055871047079563, R^2 Score: 0.9383158087730408\n",
      "R^2 score of the network on the test images: 0.9254295229911804\n",
      "Test Loss: 2.5439653620123863\n"
     ]
    }
   ],
   "source": [
    "# Create a model instance\n",
    "model = MedicalResNetModel(\n",
    "    num_epochs=10,\n",
    "    learning_rate=0.001,\n",
    "    weight_decay=1e-4,\n",
    "    data_loader=data_loader,\n",
    "    dropout_rate=0.0,\n",
    "    depth=18\n",
    "    #pretrained=False\n",
    ")\n",
    "\n",
    "# model.load_model('MedicalResNetModel_18_6212_epoch_38.pth')\n",
    "model.train()\n",
    "model.evaluate()"
   ]
  },
  {
   "cell_type": "code",
   "execution_count": 14,
   "metadata": {},
   "outputs": [
    {
     "data": {
      "image/png": "[encoded data removed]",
      "text/plain": [
       "<Figure size 1000x600 with 1 Axes>"
      ]
     },
     "metadata": {},
     "output_type": "display_data"
    }
   ],
   "source": [
    "import matplotlib.pyplot as plt\n",
    "\n",
    "# Data\n",
    "epochs = list(range(1, 11))\n",
    "train_loss = [42.742962085723875, 4.141625546932221, 2.7520689334869384, 2.0407947452068327, \n",
    "              1.5788128867149354, 1.4134249949455262, 1.4131299614906312, 1.100153112411499, \n",
    "              1.3348765921592713, 1.1574740645885468]\n",
    "val_loss = [3.2245964854955673, 7.04875348508358, 3.1852420419454575, 2.4649068638682365, \n",
    "            1.2675845175981522, 1.8881649747490883, 1.448503240942955, 1.3786930590867996, \n",
    "            3.8969911262392998, 2.055871047079563]\n",
    "\n",
    "# Plot\n",
    "plt.figure(figsize=(10, 6))\n",
    "plt.plot(epochs, train_loss, label='Train Loss', marker='o')\n",
    "plt.plot(epochs, val_loss, label='Validation Loss', marker='o')\n",
    "\n",
    "# Labels and Title\n",
    "plt.xlabel('Epochs')\n",
    "plt.ylabel('Loss')\n",
    "plt.title('Train Loss and Validation Loss over Epochs')\n",
    "plt.legend()\n",
    "plt.grid(True)\n",
    "plt.xticks(epochs)  # Set x-axis to show all epoch numbers\n",
    "\n",
    "# Show plot\n",
    "plt.show()"
   ]
  },
  {
   "cell_type": "code",
   "execution_count": null,
   "metadata": {},
   "outputs": [],
   "source": []
  }
 ],
 "metadata": {
  "kernelspec": {
   "display_name": "MLA",
   "language": "python",
   "name": "python3"
  },
  "language_info": {
   "codemirror_mode": {
    "name": "ipython",
    "version": 3
   },
   "file_extension": ".py",
   "mimetype": "text/x-python",
   "name": "python",
   "nbconvert_exporter": "python",
   "pygments_lexer": "ipython3",
   "version": "3.11.4"
  }
 },
 "nbformat": 4,
 "nbformat_minor": 2
}
