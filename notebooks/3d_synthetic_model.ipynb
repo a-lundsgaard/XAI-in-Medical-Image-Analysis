{
 "cells": [
  {
   "cell_type": "code",
   "execution_count": 7,
   "metadata": {},
   "outputs": [],
   "source": [
    "import sys\n",
    "import importlib\n",
    "import os\n",
    "# make the module available from the src directory\n",
    "module_path = os.path.abspath(os.path.join('..'))\n",
    "if module_path not in sys.path:\n",
    "    sys.path.append(module_path)"
   ]
  },
  {
   "cell_type": "code",
   "execution_count": 8,
   "metadata": {},
   "outputs": [
    {
     "name": "stdout",
     "output_type": "stream",
     "text": [
      "[{'image': '../datasets/artificial_data/3d_shapes/volume_42_label_13.pt', 'label': 13}, {'image': '../datasets/artificial_data/3d_shapes/volume_10_label_16.pt', 'label': 16}, {'image': '../datasets/artificial_data/3d_shapes/volume_30_label_21.pt', 'label': 21}, {'image': '../datasets/artificial_data/3d_shapes/volume_40_label_11.pt', 'label': 11}, {'image': '../datasets/artificial_data/3d_shapes/volume_48_label_18.pt', 'label': 18}, {'image': '../datasets/artificial_data/3d_shapes/volume_19_label_23.pt', 'label': 23}, {'image': '../datasets/artificial_data/3d_shapes/volume_5_label_29.pt', 'label': 29}, {'image': '../datasets/artificial_data/3d_shapes/volume_32_label_12.pt', 'label': 12}, {'image': '../datasets/artificial_data/3d_shapes/volume_49_label_24.pt', 'label': 24}, {'image': '../datasets/artificial_data/3d_shapes/volume_22_label_23.pt', 'label': 23}, {'image': '../datasets/artificial_data/3d_shapes/volume_25_label_24.pt', 'label': 24}, {'image': '../datasets/artificial_data/3d_shapes/volume_29_label_15.pt', 'label': 15}, {'image': '../datasets/artificial_data/3d_shapes/volume_2_label_15.pt', 'label': 15}, {'image': '../datasets/artificial_data/3d_shapes/volume_27_label_29.pt', 'label': 29}, {'image': '../datasets/artificial_data/3d_shapes/volume_23_label_21.pt', 'label': 21}, {'image': '../datasets/artificial_data/3d_shapes/volume_21_label_13.pt', 'label': 13}, {'image': '../datasets/artificial_data/3d_shapes/volume_43_label_10.pt', 'label': 10}, {'image': '../datasets/artificial_data/3d_shapes/volume_34_label_22.pt', 'label': 22}, {'image': '../datasets/artificial_data/3d_shapes/volume_15_label_28.pt', 'label': 28}, {'image': '../datasets/artificial_data/3d_shapes/volume_9_label_16.pt', 'label': 16}, {'image': '../datasets/artificial_data/3d_shapes/volume_16_label_17.pt', 'label': 17}, {'image': '../datasets/artificial_data/3d_shapes/volume_13_label_16.pt', 'label': 16}, {'image': '../datasets/artificial_data/3d_shapes/volume_24_label_10.pt', 'label': 10}, {'image': '../datasets/artificial_data/3d_shapes/volume_44_label_15.pt', 'label': 15}, {'image': '../datasets/artificial_data/3d_shapes/volume_39_label_19.pt', 'label': 19}, {'image': '../datasets/artificial_data/3d_shapes/volume_28_label_25.pt', 'label': 25}, {'image': '../datasets/artificial_data/3d_shapes/volume_46_label_23.pt', 'label': 23}, {'image': '../datasets/artificial_data/3d_shapes/volume_35_label_29.pt', 'label': 29}, {'image': '../datasets/artificial_data/3d_shapes/volume_33_label_17.pt', 'label': 17}, {'image': '../datasets/artificial_data/3d_shapes/volume_12_label_29.pt', 'label': 29}, {'image': '../datasets/artificial_data/3d_shapes/volume_0_label_20.pt', 'label': 20}, {'image': '../datasets/artificial_data/3d_shapes/volume_7_label_13.pt', 'label': 13}, {'image': '../datasets/artificial_data/3d_shapes/volume_41_label_21.pt', 'label': 21}, {'image': '../datasets/artificial_data/3d_shapes/volume_31_label_15.pt', 'label': 15}, {'image': '../datasets/artificial_data/3d_shapes/volume_14_label_17.pt', 'label': 17}, {'image': '../datasets/artificial_data/3d_shapes/volume_38_label_25.pt', 'label': 25}, {'image': '../datasets/artificial_data/3d_shapes/volume_17_label_23.pt', 'label': 23}, {'image': '../datasets/artificial_data/3d_shapes/volume_3_label_14.pt', 'label': 14}, {'image': '../datasets/artificial_data/3d_shapes/volume_11_label_29.pt', 'label': 29}, {'image': '../datasets/artificial_data/3d_shapes/volume_18_label_19.pt', 'label': 19}, {'image': '../datasets/artificial_data/3d_shapes/volume_26_label_18.pt', 'label': 18}, {'image': '../datasets/artificial_data/3d_shapes/volume_36_label_29.pt', 'label': 29}, {'image': '../datasets/artificial_data/3d_shapes/volume_4_label_22.pt', 'label': 22}, {'image': '../datasets/artificial_data/3d_shapes/volume_20_label_27.pt', 'label': 27}, {'image': '../datasets/artificial_data/3d_shapes/volume_45_label_27.pt', 'label': 27}, {'image': '../datasets/artificial_data/3d_shapes/volume_47_label_15.pt', 'label': 15}, {'image': '../datasets/artificial_data/3d_shapes/volume_37_label_15.pt', 'label': 15}, {'image': '../datasets/artificial_data/3d_shapes/volume_8_label_23.pt', 'label': 23}, {'image': '../datasets/artificial_data/3d_shapes/volume_6_label_14.pt', 'label': 14}, {'image': '../datasets/artificial_data/3d_shapes/volume_1_label_13.pt', 'label': 13}]\n"
     ]
    }
   ],
   "source": [
    "data_dir = \"../datasets/artificial_data/3d_shapes\"\n",
    "\n",
    "def create_list():\n",
    "    pairs = []\n",
    "    all_files = os.listdir(data_dir)\n",
    "    for filename in all_files:\n",
    "        label = int(filename.split(\"_\").pop().replace(\".pt\", \"\"))\n",
    "        file_path = os.path.join(data_dir, filename)\n",
    "        pairs.append({\"image\": file_path, \"label\": label})\n",
    "    return pairs\n",
    "\n",
    "pairs = create_list()\n",
    "print(pairs)"
   ]
  },
  {
   "cell_type": "code",
   "execution_count": 9,
   "metadata": {},
   "outputs": [],
   "source": [
    "from src.transformers.TensorLoaderTransfomer import TensorLoader\n",
    "importlib.reload(sys.modules['src.transformers.TensorLoaderTransfomer'])\n",
    "transforms = [TensorLoader(keys=[\"image\"])]"
   ]
  },
  {
   "cell_type": "code",
   "execution_count": 10,
   "metadata": {},
   "outputs": [
    {
     "data": {
      "text/plain": [
       "<module 'src.dataLoaders.NiftiDataLoader2' from '/Users/askelundsgaard/Documents/datalogi/6-semester/Bachelor/XAI-in-Medical-Image-Analysis/src/dataLoaders/NiftiDataLoader2.py'>"
      ]
     },
     "execution_count": 10,
     "metadata": {},
     "output_type": "execute_result"
    }
   ],
   "source": [
    "from src.dataLoaders.NiftiDataLoader2 import NiftiDataLoader\n",
    "importlib.reload(sys.modules['src.dataLoaders.NiftiDataLoader2'])"
   ]
  },
  {
   "cell_type": "code",
   "execution_count": 12,
   "metadata": {},
   "outputs": [
    {
     "name": "stdout",
     "output_type": "stream",
     "text": [
      "File /Users/askelundsgaard/Documents/datalogi/6-semester/Bachelor/XAI-in-Medical-Image-Analysis/src/dataLoaders/saved_data_lists/data_list.pkl does not exist.\n",
      "Data list loaded: False\n",
      "Subset size: 50\n",
      "Train indices: [17 26 11 14 29  4 38 23  5  0 27 30 31 34  3 36 21  6 35 16 20 32 13 22\n",
      " 25 37 39 18 12  2 33  9 24 28 10  1  7 19  8 15]\n",
      "Val indices: [0 2 4 1 3]\n",
      "Test indices: [2 3 4 0 1]\n"
     ]
    },
    {
     "name": "stderr",
     "output_type": "stream",
     "text": [
      "Loading dataset: 100%|██████████| 40/40 [00:00<00:00, 863.80it/s]\n",
      "Loading dataset: 100%|██████████| 5/5 [00:00<00:00, 1103.30it/s]\n",
      "Loading dataset: 100%|██████████| 5/5 [00:00<00:00, 1059.33it/s]\n"
     ]
    }
   ],
   "source": [
    "dataset = 'niftiShort'\n",
    "data_path = '../datasets/nifti/'\n",
    "data_dir = f'{data_path}{dataset}'\n",
    "\n",
    "# data_dir = 'C:/Users/askel/Downloads/NIFTY/NIFTY/'\n",
    "# max = 8876\n",
    "dim = 384\n",
    "data_loader = NiftiDataLoader(data_dir=data_dir, \n",
    "                              batch_size=32,\n",
    "                              spatial_resize=(dim, dim, dim),\n",
    "                              cache_rate=0.5, \n",
    "                              replace_rate=1,\n",
    "                              transforms=transforms,\n",
    "                              data_list=pairs,\n",
    "                              )\n",
    "# data_loader.load_data(visit_no=visit, subset_size=2058, cache=\"standard\")\n",
    "# data_loader.load_data(subset_size=84, cache=\"standard\")\n",
    "#data_loader.load_data(subset_size=4400, cache=\"standard\")\n",
    "# data_loader.load_data(subset_size=8875, cache=\"standard\")\n",
    "\n",
    "data_loader.load_data(cache=\"standard\")"
   ]
  }
 ],
 "metadata": {
  "kernelspec": {
   "display_name": "MLA",
   "language": "python",
   "name": "python3"
  },
  "language_info": {
   "codemirror_mode": {
    "name": "ipython",
    "version": 3
   },
   "file_extension": ".py",
   "mimetype": "text/x-python",
   "name": "python",
   "nbconvert_exporter": "python",
   "pygments_lexer": "ipython3",
   "version": "3.11.4"
  }
 },
 "nbformat": 4,
 "nbformat_minor": 2
}
