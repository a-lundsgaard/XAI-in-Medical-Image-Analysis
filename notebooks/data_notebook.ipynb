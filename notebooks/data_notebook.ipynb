{
 "cells": [
  {
   "cell_type": "code",
   "execution_count": 14,
   "metadata": {},
   "outputs": [
    {
     "name": "stdout",
     "output_type": "stream",
     "text": [
      "Generated dataset: ContSimpleNoisyImageGeneratorMoreSmallCircles\n"
     ]
    }
   ],
   "source": [
    "import sys\n",
    "import importlib\n",
    "import os\n",
    "# make the module available from the src directory\n",
    "module_path = os.path.abspath(os.path.join('..'))\n",
    "if module_path not in sys.path:\n",
    "    sys.path.append(module_path)\n",
    "\n",
    "from src.generators.utils.GenerateImages import GenerateImages\n",
    "from src.generators.image_generator.twoDimension.SimpleNoisyImageGenerator import SimpleNoisyImageGenerator\n",
    "from src.generators.image_generator.twoDimension.SimpleNoisyImageGeneratorCircle import SimpleNoisyCircleImageGenerator\n",
    "from src.generators.image_generator.twoDimension.ExtremeNoise2dGenerator import ExtremeNoise2dGenerator\n",
    "from src.generators.image_generator.twoDimension.ContSimpleNoisyImageGenerator import ContSimpleNoisyImageGenerator\n",
    "from src.generators.image_generator.twoDimension.EnhancedNoisyImageGenerator import EnhancedNoisyImageGenerator\n",
    "from src.generators.image_generator.twoDimension.EnhancedNoisyImageGeneratorRandNoiseSize import EnhancedNoisyImageGeneratorRandNoiseShape\n",
    "from src.generators.image_generator.twoDimension.ExtremeNoise2dGeneratorMultiShape import ExtremeNoise2dGeneratorMultiShape\n",
    "from src.generators.image_generator.twoDimension.ContSimpleNoisyImageGeneratorMoreSmallCircles import ContSimpleNoisyImageGeneratorMoreSmallCircles\n",
    "from src.generators.image_generator.twoDimension.ContSimpleNoisyImageGeneratorBlackSquareAndCircle import ContSimpleNoisyImageGeneratorBlackSquareAndCircle\n",
    "\n",
    "importlib.reload(sys.modules['src.generators.utils.GenerateImages'])\n",
    "importlib.reload(sys.modules['src.generators.utils.ImageGenerator'])\n",
    "importlib.reload(sys.modules['src.generators.image_generator.twoDimension.SimpleNoisyImageGeneratorCircle'])\n",
    "importlib.reload(sys.modules['src.generators.image_generator.twoDimension.EnhancedNoisyImageGenerator'])\n",
    "importlib.reload(sys.modules['src.generators.image_generator.twoDimension.ExtremeNoise2dGeneratorMultiShape'])\n",
    "importlib.reload(sys.modules['src.generators.image_generator.twoDimension.EnhancedNoisyImageGeneratorRandNoiseSize'])\n",
    "importlib.reload(sys.modules['src.generators.image_generator.twoDimension.ContSimpleNoisyImageGenerator'])\n",
    "importlib.reload(sys.modules['src.generators.image_generator.twoDimension.SimpleNoisyImageGenerator'])\n",
    "importlib.reload(sys.modules['src.generators.image_generator.twoDimension.ContSimpleNoisyImageGeneratorMoreSmallCircles'])\n",
    "importlib.reload(sys.modules['src.generators.image_generator.twoDimension.ContSimpleNoisyImageGeneratorBlackSquareAndCircle'])\n",
    "\n",
    "\n",
    "# change the generator to the one you want to use\n",
    "num_images = 10000\n",
    "# generator = EnhancedNoisyImageGeneratorRandNoiseShape(num_images=num_images, minSize=4, maxSize=16, scalar=4)\n",
    "generator = ContSimpleNoisyImageGeneratorMoreSmallCircles(num_images=num_images, minSize=8, maxSize=50)\n",
    "\n",
    "gen_images = GenerateImages(generator)\n",
    "name = gen_images.generateDataSet()\n",
    "\n",
    "print(\"Generated dataset: \" + name)"
   ]
  },
  {
   "cell_type": "code",
   "execution_count": null,
   "metadata": {},
   "outputs": [],
   "source": []
  }
 ],
 "metadata": {
  "kernelspec": {
   "display_name": "MLA",
   "language": "python",
   "name": "python3"
  },
  "language_info": {
   "codemirror_mode": {
    "name": "ipython",
    "version": 3
   },
   "file_extension": ".py",
   "mimetype": "text/x-python",
   "name": "python",
   "nbconvert_exporter": "python",
   "pygments_lexer": "ipython3",
   "version": "3.11.8"
  }
 },
 "nbformat": 4,
 "nbformat_minor": 2
}
