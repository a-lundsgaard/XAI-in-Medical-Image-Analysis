{
 "cells": [
  {
   "cell_type": "code",
   "execution_count": 1,
   "metadata": {},
   "outputs": [
    {
     "name": "stdout",
     "output_type": "stream",
     "text": [
      "Generated dataset: ContSimpleNoisyImageGenerator\n"
     ]
    }
   ],
   "source": [
    "import sys\n",
    "import importlib\n",
    "import os\n",
    "# make the module available from the src directory\n",
    "module_path = os.path.abspath(os.path.join('..'))\n",
    "if module_path not in sys.path:\n",
    "    sys.path.append(module_path)\n",
    "\n",
    "from src.generators.utils.GenerateImages import GenerateImages\n",
    "from src.generators.image_generator.twoDimension.SimpleNoisyImageGenerator import SimpleNoisyImageGenerator\n",
    "from src.generators.image_generator.twoDimension.SimpleNoisyImageGeneratorCircle import SimpleNoisyCircleImageGenerator\n",
    "from src.generators.image_generator.twoDimension.ExtremeNoise2dGenerator import ExtremeNoise2dGenerator\n",
    "from src.generators.image_generator.twoDimension.ContSimpleNoisyImageGenerator import ContSimpleNoisyImageGenerator\n",
    "\n",
    "importlib.reload(sys.modules['src.generators.utils.GenerateImages'])\n",
    "importlib.reload(sys.modules['src.generators.image_generator.twoDimension.SimpleNoisyImageGeneratorCircle'])\n",
    "\n",
    "# change the generator to the one you want to use\n",
    "generator = ContSimpleNoisyImageGenerator\n",
    "num_images = 100\n",
    "\n",
    "gen_images = GenerateImages(generator(num_images=num_images))\n",
    "name = gen_images.generateDataSet()\n",
    "\n",
    "print(\"Generated dataset: \" + name)"
   ]
  }
 ],
 "metadata": {
  "kernelspec": {
   "display_name": "MLA",
   "language": "python",
   "name": "python3"
  },
  "language_info": {
   "codemirror_mode": {
    "name": "ipython",
    "version": 3
   },
   "file_extension": ".py",
   "mimetype": "text/x-python",
   "name": "python",
   "nbconvert_exporter": "python",
   "pygments_lexer": "ipython3",
   "version": "3.11.4"
  }
 },
 "nbformat": 4,
 "nbformat_minor": 2
}
